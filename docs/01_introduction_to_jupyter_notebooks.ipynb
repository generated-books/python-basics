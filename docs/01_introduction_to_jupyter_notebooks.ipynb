{
  "cells": [
    {
      "cell_type": "markdown",
      "metadata": {},
      "source": [
        "# Introduction to Jupyter Notebooks\n",
        "\n",
        "Jupyter Notebooks are interactive web-based environments that allow you to create and share documents containing live code, equations, visualizations, and narrative text. They are widely used in data science, scientific computing, and education.\n",
        "\n",
        "In this notebook, we'll explore the basics of Jupyter Notebooks and how to use them effectively."
      ]
    },
    {
      "cell_type": "markdown",
      "metadata": {},
      "source": [
        "## What is a Jupyter Notebook?\n",
        "\n",
        "A Jupyter Notebook is composed of cells. There are two main types of cells:\n",
        "\n",
        "1. Markdown cells: For writing text, explanations, and formatting\n",
        "2. Code cells: For writing and executing code\n",
        "\n",
        "Let's start with a simple code cell to print 'Hello, Jupyter!'"
      ]
    },
    {
      "cell_type": "code",
      "execution_count": null,
      "metadata": {},
      "outputs": [],
      "source": [
        "print('Hello, Jupyter!')"
      ]
    },
    {
      "cell_type": "markdown",
      "metadata": {},
      "source": [
        "To run a code cell, you can click the 'Run' button or use the keyboard shortcut Shift+Enter."
      ]
    },
    {
      "cell_type": "markdown",
      "metadata": {},
      "source": [
        "## Variables and Basic Operations\n",
        "\n",
        "Jupyter Notebooks allow you to write and execute Python code. Let's create some variables and perform basic operations."
      ]
    },
    {
      "cell_type": "code",
      "execution_count": null,
      "metadata": {},
      "outputs": [],
      "source": [
        "x = 5\n",
        "y = 3\n",
        "print(f'x = {x}, y = {y}')"
      ]
    },
    {
      "cell_type": "code",
      "execution_count": null,
      "metadata": {},
      "outputs": [],
      "source": [
        "sum_result = x + y\n",
        "print(f'Sum of x and y: {sum_result}')"
      ]
    },
    {
      "cell_type": "markdown",
      "metadata": {},
      "source": [
        "## Markdown Formatting\n",
        "\n",
        "Markdown cells support various formatting options:\n",
        "\n",
        "- **Bold text**\n",
        "- *Italic text*\n",
        "- Lists (like this one)\n",
        "- [Links](https://jupyter.org/)\n",
        "- And even LaTeX equations: $E = mc^2$"
      ]
    },
    {
      "cell_type": "markdown",
      "metadata": {},
      "source": [
        "## Importing Libraries\n",
        "\n",
        "Jupyter Notebooks are great for data analysis. Let's import a common library and create a simple plot."
      ]
    },
    {
      "cell_type": "code",
      "execution_count": null,
      "metadata": {},
      "outputs": [],
      "source": [
        "import matplotlib.pyplot as plt\n",
        "import numpy as np"
      ]
    },
    {
      "cell_type": "code",
      "execution_count": null,
      "metadata": {},
      "outputs": [],
      "source": [
        "x = np.linspace(0, 10, 100)\n",
        "y = np.sin(x)\n",
        "\n",
        "plt.plot(x, y)\n",
        "plt.title('Sine Wave')\n",
        "plt.xlabel('x')\n",
        "plt.ylabel('sin(x)')\n",
        "plt.show()"
      ]
    },
    {
      "cell_type": "markdown",
      "metadata": {},
      "source": [
        "## Conclusion\n",
        "\n",
        "This notebook has introduced you to the basics of Jupyter Notebooks. You've learned about:\n",
        "\n",
        "1. Different types of cells\n",
        "2. Running code\n",
        "3. Basic Python operations\n",
        "4. Markdown formatting\n",
        "5. Importing libraries and creating plots\n",
        "\n",
        "Jupyter Notebooks are powerful tools for interactive computing and data analysis. As you progress through this course, you'll discover more advanced features and applications of Jupyter Notebooks in Python programming and data science."
      ]
    }
  ],
  "metadata": {
    "kernelspec": {
      "display_name": "Python 3",
      "language": "python",
      "name": "python3"
    },
    "language_info": {
      "codemirror_mode": {
        "name": "ipython",
        "version": 3
      },
      "file_extension": ".py",
      "mimetype": "text/x-python",
      "name": "python",
      "nbconvert_exporter": "python",
      "pygments_lexer": "ipython3",
      "version": "3.8.8"
    }
  },
  "nbformat": 4,
  "nbformat_minor": 4
}