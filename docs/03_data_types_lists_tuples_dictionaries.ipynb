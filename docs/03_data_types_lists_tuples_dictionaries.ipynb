{
  "cells": [
    {
      "cell_type": "markdown",
      "metadata": {},
      "source": [
        "# Data Types: Lists, Tuples, Dictionaries\n",
        "\n",
        "In this notebook, we'll explore three important data types in Python: lists, tuples, and dictionaries. These data structures are fundamental for organizing and manipulating data in Python."
      ]
    },
    {
      "cell_type": "markdown",
      "metadata": {},
      "source": [
        "## 1. Lists\n",
        "\n",
        "Lists are ordered, mutable sequences of elements. They can contain items of different types and are defined using square brackets []."
      ]
    },
    {
      "cell_type": "code",
      "execution_count": null,
      "metadata": {},
      "outputs": [],
      "source": [
        "# Creating a list\n",
        "fruits = ['apple', 'banana', 'cherry']\n",
        "print(fruits)"
      ]
    },
    {
      "cell_type": "code",
      "execution_count": null,
      "metadata": {},
      "outputs": [],
      "source": [
        "# Accessing elements\n",
        "print(fruits[0])  # First element\n",
        "print(fruits[-1])  # Last element"
      ]
    },
    {
      "cell_type": "code",
      "execution_count": null,
      "metadata": {},
      "outputs": [],
      "source": [
        "# Modifying a list\n",
        "fruits[1] = 'blueberry'\n",
        "print(fruits)"
      ]
    },
    {
      "cell_type": "code",
      "execution_count": null,
      "metadata": {},
      "outputs": [],
      "source": [
        "# Adding elements\n",
        "fruits.append('date')\n",
        "print(fruits)"
      ]
    },
    {
      "cell_type": "markdown",
      "metadata": {},
      "source": [
        "## 2. Tuples\n",
        "\n",
        "Tuples are ordered, immutable sequences. They are similar to lists but cannot be modified after creation. Tuples are defined using parentheses ()."
      ]
    },
    {
      "cell_type": "code",
      "execution_count": null,
      "metadata": {},
      "outputs": [],
      "source": [
        "# Creating a tuple\n",
        "coordinates = (10, 20)\n",
        "print(coordinates)"
      ]
    },
    {
      "cell_type": "code",
      "execution_count": null,
      "metadata": {},
      "outputs": [],
      "source": [
        "# Accessing elements\n",
        "print(coordinates[0])\n",
        "print(coordinates[1])"
      ]
    },
    {
      "cell_type": "code",
      "execution_count": null,
      "metadata": {},
      "outputs": [],
      "source": [
        "# Attempting to modify a tuple (will raise an error)\n",
        "# coordinates[0] = 15  # Uncomment to see the error"
      ]
    },
    {
      "cell_type": "markdown",
      "metadata": {},
      "source": [
        "## 3. Dictionaries\n",
        "\n",
        "Dictionaries are unordered collections of key-value pairs. They are defined using curly braces {} and use keys to access values."
      ]
    },
    {
      "cell_type": "code",
      "execution_count": null,
      "metadata": {},
      "outputs": [],
      "source": [
        "# Creating a dictionary\n",
        "person = {'name': 'Alice', 'age': 30, 'city': 'New York'}\n",
        "print(person)"
      ]
    },
    {
      "cell_type": "code",
      "execution_count": null,
      "metadata": {},
      "outputs": [],
      "source": [
        "# Accessing values\n",
        "print(person['name'])\n",
        "print(person.get('age'))"
      ]
    },
    {
      "cell_type": "code",
      "execution_count": null,
      "metadata": {},
      "outputs": [],
      "source": [
        "# Modifying and adding key-value pairs\n",
        "person['age'] = 31\n",
        "person['occupation'] = 'Engineer'\n",
        "print(person)"
      ]
    },
    {
      "cell_type": "markdown",
      "metadata": {},
      "source": [
        "## Summary\n",
        "\n",
        "- Lists are mutable, ordered sequences using [].\n",
        "- Tuples are immutable, ordered sequences using ().\n",
        "- Dictionaries are mutable, unordered collections of key-value pairs using {}.\n",
        "\n",
        "Each of these data types has its own use cases and advantages in Python programming."
      ]
    }
  ],
  "metadata": {
    "kernelspec": {
      "display_name": "Python 3",
      "language": "python",
      "name": "python3"
    },
    "language_info": {
      "codemirror_mode": {
        "name": "ipython",
        "version": 3
      },
      "file_extension": ".py",
      "mimetype": "text/x-python",
      "name": "python",
      "nbconvert_exporter": "python",
      "pygments_lexer": "ipython3",
      "version": "3.8.5"
    }
  },
  "nbformat": 4,
  "nbformat_minor": 4
}