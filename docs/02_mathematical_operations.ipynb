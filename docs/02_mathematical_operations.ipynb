{
 "cells": [
  {
   "cell_type": "markdown",
   "metadata": {},
   "source": [
    "# Mathematical Operations in Python\n",
    "\n",
    "This notebook covers basic mathematical operations in Python. We'll explore arithmetic operators, order of operations, and some built-in mathematical functions."
   ]
  },
  {
   "cell_type": "markdown",
   "metadata": {},
   "source": [
    "Let's start with basic arithmetic operations. Python supports addition, subtraction, multiplication, and division."
   ]
  },
  {
   "cell_type": "code",
   "execution_count": null,
   "metadata": {},
   "outputs": [],
   "source": [
    "print(5 + 3)  # Addition\n",
    "print(10 - 4)  # Subtraction\n",
    "print(6 * 2)  # Multiplication\n",
    "print(15 / 3)  # Division"
   ]
  },
  {
   "cell_type": "markdown",
   "metadata": {},
   "source": [
    "Python also supports exponentiation (raising to a power) and modulo operations (remainder after division)."
   ]
  },
  {
   "cell_type": "code",
   "execution_count": null,
   "metadata": {},
   "outputs": [],
   "source": [
    "print(2 ** 3)  # Exponentiation: 2 raised to the power of 3\n",
    "print(17 % 5)  # Modulo: remainder of 17 divided by 5"
   ]
  },
  {
   "cell_type": "markdown",
   "metadata": {},
   "source": [
    "Python follows the standard order of operations (PEMDAS). Let's see how this works with a complex expression."
   ]
  },
  {
   "cell_type": "code",
   "execution_count": null,
   "metadata": {},
   "outputs": [],
   "source": [
    "result = 2 + 3 * 4 - 6 / 2\n",
    "print(result)"
   ]
  },
  {
   "cell_type": "markdown",
   "metadata": {},
   "source": [
    "We can use parentheses to change the order of operations and make our intentions clear."
   ]
  },
  {
   "cell_type": "code",
   "execution_count": null,
   "metadata": {},
   "outputs": [],
   "source": [
    "result_with_parentheses = (2 + 3) * (4 - 6) / 2\n",
    "print(result_with_parentheses)"
   ]
  },
  {
   "cell_type": "markdown",
   "metadata": {},
   "source": [
    "Python's math module provides additional mathematical functions. Let's import it and use some of its functions."
   ]
  },
  {
   "cell_type": "code",
   "execution_count": null,
   "metadata": {},
   "outputs": [],
   "source": [
    "import math\n",
    "\n",
    "print(math.sqrt(16))  # Square root\n",
    "print(math.pi)  # Pi constant\n",
    "print(math.sin(math.pi/2))  # Sine function"
   ]
  },
  {
   "cell_type": "markdown",
   "metadata": {},
   "source": [
    "Finally, let's look at how to round numbers in Python using built-in functions."
   ]
  },
  {
   "cell_type": "code",
   "execution_count": null,
   "metadata": {},
   "outputs": [],
   "source": [
    "print(round(3.7))  # Rounds to the nearest integer\n",
    "print(math.floor(3.7))  # Rounds down to the nearest integer\n",
    "print(math.ceil(3.2))  # Rounds up to the nearest integer"
   ]
  }
 ],
 "metadata": {
  "kernelspec": {
   "display_name": "Python 3",
   "language": "python",
   "name": "python3"
  },
  "language_info": {
   "codemirror_mode": {
    "name": "ipython",
    "version": 3
   },
   "file_extension": ".py",
   "mimetype": "text/x-python",
   "name": "python",
   "nbconvert_exporter": "python",
   "pygments_lexer": "ipython3",
   "version": "3.8.8"
  }
 },
 "nbformat": 4,
 "nbformat_minor": 4
}