{
  "cells": [
    {
      "cell_type": "markdown",
      "metadata": {},
      "source": [
        "# Tabular Data Wrangling with Pandas\n\n",
        "This notebook introduces basic data wrangling techniques using the pandas library in Python. We'll cover importing data, basic operations, and data manipulation."
      ]
    },
    {
      "cell_type": "markdown",
      "metadata": {},
      "source": [
        "First, we need to import the pandas library. We'll use the conventional alias 'pd' for pandas."
      ]
    },
    {
      "cell_type": "code",
      "execution_count": null,
      "metadata": {},
      "outputs": [],
      "source": [
        "import pandas as pd"
      ]
    },
    {
      "cell_type": "markdown",
      "metadata": {},
      "source": [
        "Let's create a simple DataFrame to work with. This DataFrame will contain information about fruits."
      ]
    },
    {
      "cell_type": "code",
      "execution_count": null,
      "metadata": {},
      "outputs": [],
      "source": [
        "data = {\n",
        "    'Fruit': ['Apple', 'Banana', 'Cherry', 'Date', 'Elderberry'],\n",
        "    'Color': ['Red', 'Yellow', 'Red', 'Brown', 'Purple'],\n",
        "    'Price': [0.35, 0.25, 0.50, 0.40, 0.80]\n",
        "}\n",
        "df = pd.DataFrame(data)\n",
        "print(df)"
      ]
    },
    {
      "cell_type": "markdown",
      "metadata": {},
      "source": [
        "To get an overview of the DataFrame, we can use the `info()` method. This provides information about the columns, data types, and non-null values."
      ]
    },
    {
      "cell_type": "code",
      "execution_count": null,
      "metadata": {},
      "outputs": [],
      "source": [
        "df.info()"
      ]
    },
    {
      "cell_type": "markdown",
      "metadata": {},
      "source": [
        "We can select specific columns from the DataFrame. Let's select the 'Fruit' and 'Price' columns."
      ]
    },
    {
      "cell_type": "code",
      "execution_count": null,
      "metadata": {},
      "outputs": [],
      "source": [
        "print(df[['Fruit', 'Price']])"
      ]
    },
    {
      "cell_type": "markdown",
      "metadata": {},
      "source": [
        "To filter rows based on a condition, we can use boolean indexing. Let's find all fruits that are red."
      ]
    },
    {
      "cell_type": "code",
      "execution_count": null,
      "metadata": {},
      "outputs": [],
      "source": [
        "red_fruits = df[df['Color'] == 'Red']\n",
        "print(red_fruits)"
      ]
    },
    {
      "cell_type": "markdown",
      "metadata": {},
      "source": [
        "We can add a new column to our DataFrame. Let's add a 'Stock' column with some random values."
      ]
    },
    {
      "cell_type": "code",
      "execution_count": null,
      "metadata": {},
      "outputs": [],
      "source": [
        "import random\n",
        "df['Stock'] = [random.randint(50, 100) for _ in range(len(df))]\n",
        "print(df)"
      ]
    },
    {
      "cell_type": "markdown",
      "metadata": {},
      "source": [
        "To perform calculations on columns, we can use simple arithmetic operations. Let's calculate the total value of each fruit's stock."
      ]
    },
    {
      "cell_type": "code",
      "execution_count": null,
      "metadata": {},
      "outputs": [],
      "source": [
        "df['Total Value'] = df['Price'] * df['Stock']\n",
        "print(df)"
      ]
    },
    {
      "cell_type": "markdown",
      "metadata": {},
      "source": [
        "Finally, let's sort the DataFrame based on the 'Total Value' column in descending order."
      ]
    },
    {
      "cell_type": "code",
      "execution_count": null,
      "metadata": {},
      "outputs": [],
      "source": [
        "df_sorted = df.sort_values('Total Value', ascending=False)\n",
        "print(df_sorted)"
      ]
    }
  ],
  "metadata": {
    "kernelspec": {
      "display_name": "Python 3",
      "language": "python",
      "name": "python3"
    },
    "language_info": {
      "codemirror_mode": {
        "name": "ipython",
        "version": 3
      },
      "file_extension": ".py",
      "mimetype": "text/x-python",
      "name": "python",
      "nbconvert_exporter": "python",
      "pygments_lexer": "ipython3",
      "version": "3.8.5"
    }
  },
  "nbformat": 4,
  "nbformat_minor": 4
}