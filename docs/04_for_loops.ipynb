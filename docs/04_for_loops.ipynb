{
  "cells": [
    {
      "cell_type": "markdown",
      "metadata": {},
      "source": [
        "# For-loops in Python\n",
        "\n",
        "In this notebook, we'll explore for-loops, a fundamental concept in Python programming. For-loops allow us to iterate over a sequence of elements and perform operations on each item."
      ]
    },
    {
      "cell_type": "markdown",
      "metadata": {},
      "source": [
        "## Basic For-loop Structure\n",
        "\n",
        "The basic structure of a for-loop in Python is:\n",
        "\n",
        "```python\n",
        "for item in sequence:\n",
        "    # code to be executed for each item\n",
        "```\n",
        "\n",
        "Let's start with a simple example:"
      ]
    },
    {
      "cell_type": "code",
      "execution_count": null,
      "metadata": {},
      "outputs": [],
      "source": [
        "fruits = ['apple', 'banana', 'cherry']\n",
        "for fruit in fruits:\n",
        "    print(fruit)"
      ]
    },
    {
      "cell_type": "markdown",
      "metadata": {},
      "source": [
        "In this example, we iterate through each item in the `fruits` list and print it."
      ]
    },
    {
      "cell_type": "markdown",
      "metadata": {},
      "source": [
        "## Using range() in For-loops\n",
        "\n",
        "The `range()` function is often used with for-loops to iterate a specific number of times:"
      ]
    },
    {
      "cell_type": "code",
      "execution_count": null,
      "metadata": {},
      "outputs": [],
      "source": [
        "for i in range(5):\n",
        "    print(i)"
      ]
    },
    {
      "cell_type": "markdown",
      "metadata": {},
      "source": [
        "This loop will print numbers from 0 to 4."
      ]
    },
    {
      "cell_type": "markdown",
      "metadata": {},
      "source": [
        "## Nested For-loops\n",
        "\n",
        "We can also nest for-loops inside each other:"
      ]
    },
    {
      "cell_type": "code",
      "execution_count": null,
      "metadata": {},
      "outputs": [],
      "source": [
        "for i in range(3):\n",
        "    for j in range(2):\n",
        "        print(f'i: {i}, j: {j}')"
      ]
    },
    {
      "cell_type": "markdown",
      "metadata": {},
      "source": [
        "This nested loop will print combinations of i and j."
      ]
    },
    {
      "cell_type": "markdown",
      "metadata": {},
      "source": [
        "## Loop Control Statements\n",
        "\n",
        "Python provides two loop control statements:\n",
        "- `break`: exits the loop prematurely\n",
        "- `continue`: skips the rest of the current iteration\n",
        "\n",
        "Let's see an example of `break`:"
      ]
    },
    {
      "cell_type": "code",
      "execution_count": null,
      "metadata": {},
      "outputs": [],
      "source": [
        "for number in range(10):\n",
        "    if number == 5:\n",
        "        break\n",
        "    print(number)"
      ]
    },
    {
      "cell_type": "markdown",
      "metadata": {},
      "source": [
        "This loop will print numbers from 0 to 4 and then stop when it reaches 5."
      ]
    },
    {
      "cell_type": "markdown",
      "metadata": {},
      "source": [
        "Now, let's look at an example of `continue`:"
      ]
    },
    {
      "cell_type": "code",
      "execution_count": null,
      "metadata": {},
      "outputs": [],
      "source": [
        "for number in range(5):\n",
        "    if number == 2:\n",
        "        continue\n",
        "    print(number)"
      ]
    },
    {
      "cell_type": "markdown",
      "metadata": {},
      "source": [
        "This loop will print all numbers from 0 to 4, except for 2."
      ]
    },
    {
      "cell_type": "markdown",
      "metadata": {},
      "source": [
        "## Conclusion\n",
        "\n",
        "For-loops are a powerful tool in Python for iterating over sequences and performing repeated actions. They are essential for many programming tasks and form the basis for more advanced looping concepts."
      ]
    }
  ],
  "metadata": {
    "kernelspec": {
      "display_name": "Python 3",
      "language": "python",
      "name": "python3"
    },
    "language_info": {
      "codemirror_mode": {
        "name": "ipython",
        "version": 3
      },
      "file_extension": ".py",
      "mimetype": "text/x-python",
      "name": "python",
      "nbconvert_exporter": "python",
      "pygments_lexer": "ipython3",
      "version": "3.8.5"
    }
  },
  "nbformat": 4,
  "nbformat_minor": 4
}