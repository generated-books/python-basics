{
  "cells": [
    {
      "cell_type": "markdown",
      "metadata": {},
      "source": [
        "# For-loops in Python\n",
        "\n",
        "For-loops are a fundamental construct in Python that allow you to iterate over a sequence of elements. They are incredibly useful for performing repetitive tasks efficiently."
      ]
    },
    {
      "cell_type": "markdown",
      "metadata": {},
      "source": [
        "## Basic Syntax\n",
        "\n",
        "The basic syntax of a for-loop in Python is:\n",
        "\n",
        "```python\n",
        "for item in sequence:\n",
        "    # code to be executed\n",
        "```\n",
        "\n",
        "Let's start with a simple example:"
      ]
    },
    {
      "cell_type": "code",
      "execution_count": null,
      "metadata": {},
      "outputs": [],
      "source": [
        "fruits = ['apple', 'banana', 'cherry']\n",
        "for fruit in fruits:\n",
        "    print(fruit)"
      ]
    },
    {
      "cell_type": "markdown",
      "metadata": {},
      "source": [
        "In this example, we iterate over a list of fruits and print each one."
      ]
    },
    {
      "cell_type": "markdown",
      "metadata": {},
      "source": [
        "## Using range()\n",
        "\n",
        "The `range()` function is often used with for-loops to iterate a specific number of times:"
      ]
    },
    {
      "cell_type": "code",
      "execution_count": null,
      "metadata": {},
      "outputs": [],
      "source": [
        "for i in range(5):\n",
        "    print(i)"
      ]
    },
    {
      "cell_type": "markdown",
      "metadata": {},
      "source": [
        "This will print numbers from 0 to 4."
      ]
    },
    {
      "cell_type": "markdown",
      "metadata": {},
      "source": [
        "## Nested For-loops\n",
        "\n",
        "You can nest for-loops inside each other:"
      ]
    },
    {
      "cell_type": "code",
      "execution_count": null,
      "metadata": {},
      "outputs": [],
      "source": [
        "for i in range(3):\n",
        "    for j in range(2):\n",
        "        print(f'({i}, {j})')"
      ]
    },
    {
      "cell_type": "markdown",
      "metadata": {},
      "source": [
        "This will print all combinations of (i, j) where i is 0, 1, 2 and j is 0, 1."
      ]
    },
    {
      "cell_type": "markdown",
      "metadata": {},
      "source": [
        "## Loop Control Statements\n",
        "\n",
        "Python provides two loop control statements:\n",
        "\n",
        "- `break`: exits the loop prematurely\n",
        "- `continue`: skips the rest of the current iteration\n",
        "\n",
        "Let's see an example of `break`:"
      ]
    },
    {
      "cell_type": "code",
      "execution_count": null,
      "metadata": {},
      "outputs": [],
      "source": [
        "for i in range(5):\n",
        "    if i == 3:\n",
        "        break\n",
        "    print(i)"
      ]
    },
    {
      "cell_type": "markdown",
      "metadata": {},
      "source": [
        "This will print 0, 1, 2 and then exit the loop."
      ]
    },
    {
      "cell_type": "markdown",
      "metadata": {},
      "source": [
        "Now, let's see an example of `continue`:"
      ]
    },
    {
      "cell_type": "code",
      "execution_count": null,
      "metadata": {},
      "outputs": [],
      "source": [
        "for i in range(5):\n",
        "    if i == 2:\n",
        "        continue\n",
        "    print(i)"
      ]
    },
    {
      "cell_type": "markdown",
      "metadata": {},
      "source": [
        "This will print 0, 1, 3, 4, skipping 2."
      ]
    },
    {
      "cell_type": "markdown",
      "metadata": {},
      "source": [
        "## Conclusion\n",
        "\n",
        "For-loops are a powerful tool in Python for iterating over sequences and performing repetitive tasks. They can be used with various types of sequences and can be controlled using `break` and `continue` statements. Practice using for-loops in different scenarios to become more comfortable with them."
      ]
    }
  ],
  "metadata": {
    "kernelspec": {
      "display_name": "Python 3",
      "language": "python",
      "name": "python3"
    },
    "language_info": {
      "codemirror_mode": {
        "name": "ipython",
        "version": 3
      },
      "file_extension": ".py",
      "mimetype": "text/x-python",
      "name": "python",
      "nbconvert_exporter": "python",
      "pygments_lexer": "ipython3",
      "version": "3.8.5"
    }
  },
  "nbformat": 4,
  "nbformat_minor": 4
}