{
  "cells": [
    {
      "cell_type": "markdown",
      "metadata": {},
      "source": [
        "# Image Processing with scikit-image\n",
        "\n",
        "In this notebook, we'll explore basic image processing techniques using the scikit-image library. We'll learn how to load, display, and manipulate images using various filters and transformations."
      ]
    },
    {
      "cell_type": "markdown",
      "metadata": {},
      "source": [
        "First, let's import the necessary libraries. We'll use scikit-image for image processing and matplotlib for displaying images."
      ]
    },
    {
      "cell_type": "code",
      "execution_count": null,
      "metadata": {},
      "outputs": [],
      "source": [
        "import numpy as np\n",
        "from skimage import data, filters, color\n",
        "import matplotlib.pyplot as plt"
      ]
    },
    {
      "cell_type": "markdown",
      "metadata": {},
      "source": [
        "Now, let's load a sample image from scikit-image's data module. We'll use the 'cells3d' image for this example."
      ]
    },
    {
      "cell_type": "code",
      "execution_count": null,
      "metadata": {},
      "outputs": [],
      "source": [
        "image = data.cells3d()[30, 1]  # Select a specific slice from the 3D image\n",
        "plt.imshow(image, cmap='gray')\n",
        "plt.axis('off')\n",
        "plt.show()"
      ]
    },
    {
      "cell_type": "markdown",
      "metadata": {},
      "source": [
        "Let's apply a Gaussian filter to smooth the image. This filter reduces noise and blurs the image slightly."
      ]
    },
    {
      "cell_type": "code",
      "execution_count": null,
      "metadata": {},
      "outputs": [],
      "source": [
        "gaussian_image = filters.gaussian(image, sigma=1)\n",
        "plt.imshow(gaussian_image, cmap='gray')\n",
        "plt.axis('off')\n",
        "plt.title('Gaussian Filtered Image')\n",
        "plt.show()"
      ]
    },
    {
      "cell_type": "markdown",
      "metadata": {},
      "source": [
        "Next, we'll apply edge detection using the Sobel filter. This filter highlights edges in the image."
      ]
    },
    {
      "cell_type": "code",
      "execution_count": null,
      "metadata": {},
      "outputs": [],
      "source": [
        "edges = filters.sobel(image)\n",
        "plt.imshow(edges, cmap='gray')\n",
        "plt.axis('off')\n",
        "plt.title('Edge Detection')\n",
        "plt.show()"
      ]
    },
    {
      "cell_type": "markdown",
      "metadata": {},
      "source": [
        "Now, let's threshold the image to create a binary image. This separates the foreground from the background."
      ]
    },
    {
      "cell_type": "code",
      "execution_count": null,
      "metadata": {},
      "outputs": [],
      "source": [
        "threshold_value = filters.threshold_otsu(image)\n",
        "binary_image = image > threshold_value\n",
        "plt.imshow(binary_image, cmap='gray')\n",
        "plt.axis('off')\n",
        "plt.title('Binary Image')\n",
        "plt.show()"
      ]
    },
    {
      "cell_type": "markdown",
      "metadata": {},
      "source": [
        "Finally, let's compare the original image with the processed versions side by side."
      ]
    },
    {
      "cell_type": "code",
      "execution_count": null,
      "metadata": {},
      "outputs": [],
      "source": [
        "fig, axes = plt.subplots(2, 2, figsize=(12, 12))\n",
        "axes[0, 0].imshow(image, cmap='gray')\n",
        "axes[0, 0].set_title('Original Image')\n",
        "axes[0, 1].imshow(gaussian_image, cmap='gray')\n",
        "axes[0, 1].set_title('Gaussian Filtered')\n",
        "axes[1, 0].imshow(edges, cmap='gray')\n",
        "axes[1, 0].set_title('Edge Detection')\n",
        "axes[1, 1].imshow(binary_image, cmap='gray')\n",
        "axes[1, 1].set_title('Binary Image')\n",
        "\n",
        "for ax in axes.ravel():\n",
        "    ax.axis('off')\n",
        "\n",
        "plt.tight_layout()\n",
        "plt.show()"
      ]
    },
    {
      "cell_type": "markdown",
      "metadata": {},
      "source": [
        "This notebook has introduced you to basic image processing techniques using scikit-image. You've learned how to load images, apply filters, detect edges, and create binary images. These fundamental operations form the basis for more advanced image processing tasks."
      ]
    }
  ],
  "metadata": {
    "kernelspec": {
      "display_name": "Python 3",
      "language": "python",
      "name": "python3"
    },
    "language_info": {
      "codemirror_mode": {
        "name": "ipython",
        "version": 3
      },
      "file_extension": ".py",
      "mimetype": "text/x-python",
      "name": "python",
      "nbconvert_exporter": "python",
      "pygments_lexer": "ipython3",
      "version": "3.8.10"
    }
  },
  "nbformat": 4,
  "nbformat_minor": 4
}