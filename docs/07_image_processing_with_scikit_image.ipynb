{
  "cells": [
    {
      "cell_type": "markdown",
      "metadata": {},
      "source": [
        "# Image Processing with scikit-image\n",
        "\n",
        "In this notebook, we'll explore basic image processing techniques using the scikit-image library in Python. Scikit-image is a powerful tool for image processing that builds upon numpy arrays."
      ]
    },
    {
      "cell_type": "markdown",
      "metadata": {},
      "source": [
        "## 1. Installing and Importing Libraries"
      ]
    },
    {
      "cell_type": "code",
      "execution_count": null,
      "metadata": {},
      "outputs": [],
      "source": [
        "!pip install scikit-image matplotlib\n",
        "\n",
        "import numpy as np\n",
        "import matplotlib.pyplot as plt\n",
        "from skimage import io, color, filters"
      ]
    },
    {
      "cell_type": "markdown",
      "metadata": {},
      "source": [
        "## 2. Loading an Image"
      ]
    },
    {
      "cell_type": "code",
      "execution_count": null,
      "metadata": {},
      "outputs": [],
      "source": [
        "# Load a sample image\n",
        "image = io.imread('https://scikit-image.org/docs/dev/_static/img/logo.png')\n",
        "\n",
        "# Display the image\n",
        "plt.imshow(image)\n",
        "plt.axis('off')\n",
        "plt.show()"
      ]
    },
    {
      "cell_type": "markdown",
      "metadata": {},
      "source": [
        "## 3. Converting to Grayscale"
      ]
    },
    {
      "cell_type": "code",
      "execution_count": null,
      "metadata": {},
      "outputs": [],
      "source": [
        "# Convert the image to grayscale\n",
        "gray_image = color.rgb2gray(image)\n",
        "\n",
        "# Display the grayscale image\n",
        "plt.imshow(gray_image, cmap='gray')\n",
        "plt.axis('off')\n",
        "plt.show()"
      ]
    },
    {
      "cell_type": "markdown",
      "metadata": {},
      "source": [
        "## 4. Applying Filters"
      ]
    },
    {
      "cell_type": "code",
      "execution_count": null,
      "metadata": {},
      "outputs": [],
      "source": [
        "# Apply Gaussian filter\n",
        "blurred = filters.gaussian(gray_image, sigma=1)\n",
        "\n",
        "# Display the blurred image\n",
        "plt.imshow(blurred, cmap='gray')\n",
        "plt.axis('off')\n",
        "plt.title('Gaussian Blurred')\n",
        "plt.show()"
      ]
    },
    {
      "cell_type": "markdown",
      "metadata": {},
      "source": [
        "## 5. Edge Detection"
      ]
    },
    {
      "cell_type": "code",
      "execution_count": null,
      "metadata": {},
      "outputs": [],
      "source": [
        "# Apply Sobel edge detection\n",
        "edges = filters.sobel(gray_image)\n",
        "\n",
        "# Display the edge-detected image\n",
        "plt.imshow(edges, cmap='gray')\n",
        "plt.axis('off')\n",
        "plt.title('Sobel Edge Detection')\n",
        "plt.show()"
      ]
    },
    {
      "cell_type": "markdown",
      "metadata": {},
      "source": [
        "## Conclusion\n",
        "\n",
        "This notebook introduced basic image processing techniques using scikit-image. We covered loading images, converting to grayscale, applying filters, and edge detection. These operations form the foundation for more advanced image processing tasks."
      ]
    }
  ],
  "metadata": {
    "kernelspec": {
      "display_name": "Python 3",
      "language": "python",
      "name": "python3"
    },
    "language_info": {
      "codemirror_mode": {
        "name": "ipython",
        "version": 3
      },
      "file_extension": ".py",
      "mimetype": "text/x-python",
      "name": "python",
      "nbconvert_exporter": "python",
      "pygments_lexer": "ipython3",
      "version": "3.8.0"
    }
  },
  "nbformat": 4,
  "nbformat_minor": 4
}