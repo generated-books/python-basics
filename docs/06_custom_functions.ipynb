{
  "cells": [
    {
      "cell_type": "markdown",
      "metadata": {},
      "source": [
        "# Custom Functions in Python\n",
        "\n",
        "In this notebook, we'll explore how to create and use custom functions in Python. Functions are reusable blocks of code that perform specific tasks, making our code more organized and easier to maintain."
      ]
    },
    {
      "cell_type": "markdown",
      "metadata": {},
      "source": [
        "## Defining a Simple Function\n",
        "\n",
        "Let's start by defining a simple function that greets a person:"
      ]
    },
    {
      "cell_type": "code",
      "execution_count": null,
      "metadata": {},
      "outputs": [],
      "source": [
        "def greet(name):\n",
        "    return f\"Hello, {name}!\"\n",
        "\n",
        "# Let's test our function\n",
        "print(greet(\"Alice\"))"
      ]
    },
    {
      "cell_type": "markdown",
      "metadata": {},
      "source": [
        "## Functions with Multiple Parameters\n",
        "\n",
        "We can define functions with multiple parameters:"
      ]
    },
    {
      "cell_type": "code",
      "execution_count": null,
      "metadata": {},
      "outputs": [],
      "source": [
        "def calculate_rectangle_area(length, width):\n",
        "    return length * width\n",
        "\n",
        "# Let's calculate the area of a rectangle\n",
        "area = calculate_rectangle_area(5, 3)\n",
        "print(f\"The area of the rectangle is: {area}\")"
      ]
    },
    {
      "cell_type": "markdown",
      "metadata": {},
      "source": [
        "## Default Parameter Values\n",
        "\n",
        "We can set default values for function parameters:"
      ]
    },
    {
      "cell_type": "code",
      "execution_count": null,
      "metadata": {},
      "outputs": [],
      "source": [
        "def power(base, exponent=2):\n",
        "    return base ** exponent\n",
        "\n",
        "# Using the default exponent (2)\n",
        "print(power(3))\n",
        "\n",
        "# Specifying a different exponent\n",
        "print(power(3, 3))"
      ]
    },
    {
      "cell_type": "markdown",
      "metadata": {},
      "source": [
        "## Return Multiple Values\n",
        "\n",
        "Functions can return multiple values as a tuple:"
      ]
    },
    {
      "cell_type": "code",
      "execution_count": null,
      "metadata": {},
      "outputs": [],
      "source": [
        "def min_max(numbers):\n",
        "    return min(numbers), max(numbers)\n",
        "\n",
        "# Let's find the minimum and maximum of a list\n",
        "numbers = [3, 1, 4, 1, 5, 9, 2, 6, 5, 3, 5]\n",
        "minimum, maximum = min_max(numbers)\n",
        "print(f\"Minimum: {minimum}, Maximum: {maximum}\")"
      ]
    },
    {
      "cell_type": "markdown",
      "metadata": {},
      "source": [
        "## Docstrings\n",
        "\n",
        "It's a good practice to include docstrings in your functions to explain what they do:"
      ]
    },
    {
      "cell_type": "code",
      "execution_count": null,
      "metadata": {},
      "outputs": [],
      "source": [
        "def celsius_to_fahrenheit(celsius):\n",
        "    \"\"\"Convert Celsius to Fahrenheit.\n",
        "    \n",
        "    Args:\n",
        "        celsius (float): Temperature in Celsius\n",
        "    \n",
        "    Returns:\n",
        "        float: Temperature in Fahrenheit\n",
        "    \"\"\"\n",
        "    return (celsius * 9/5) + 32\n",
        "\n",
        "# Let's convert 25°C to Fahrenheit\n",
        "fahrenheit = celsius_to_fahrenheit(25)\n",
        "print(f\"25°C is equal to {fahrenheit}°F\")\n",
        "\n",
        "# We can access the docstring\n",
        "print(celsius_to_fahrenheit.__doc__)"
      ]
    },
    {
      "cell_type": "markdown",
      "metadata": {},
      "source": [
        "## Conclusion\n",
        "\n",
        "Custom functions are a powerful tool in Python. They allow you to organize your code, make it more readable, and avoid repetition. As you continue to learn Python, you'll find yourself using functions more and more to create efficient and maintainable code."
      ]
    }
  ],
  "metadata": {
    "kernelspec": {
      "display_name": "Python 3",
      "language": "python",
      "name": "python3"
    },
    "language_info": {
      "codemirror_mode": {
        "name": "ipython",
        "version": 3
      },
      "file_extension": ".py",
      "mimetype": "text/x-python",
      "name": "python",
      "nbconvert_exporter": "python",
      "pygments_lexer": "ipython3",
      "version": "3.8.8"
    }
  },
  "nbformat": 4,
  "nbformat_minor": 4
}