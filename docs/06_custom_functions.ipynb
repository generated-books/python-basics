{
  "cells": [
    {
      "cell_type": "markdown",
      "metadata": {},
      "source": [
        "# Custom Functions in Python\n",
        "\n",
        "In this notebook, we'll learn about creating and using custom functions in Python. Functions are reusable blocks of code that perform specific tasks, making our code more organized and efficient."
      ]
    },
    {
      "cell_type": "markdown",
      "metadata": {},
      "source": [
        "## Defining a Simple Function\n",
        "\n",
        "Let's start by defining a simple function that greets a person:"
      ]
    },
    {
      "cell_type": "code",
      "execution_count": null,
      "metadata": {},
      "outputs": [],
      "source": [
        "def greet(name):\n",
        "    return f\"Hello, {name}!\"\n",
        "\n",
        "# Let's test our function\n",
        "print(greet(\"Alice\"))"
      ]
    },
    {
      "cell_type": "markdown",
      "metadata": {},
      "source": [
        "## Functions with Multiple Parameters\n",
        "\n",
        "We can define functions with multiple parameters:"
      ]
    },
    {
      "cell_type": "code",
      "execution_count": null,
      "metadata": {},
      "outputs": [],
      "source": [
        "def calculate_rectangle_area(length, width):\n",
        "    return length * width\n",
        "\n",
        "# Let's calculate the area of a rectangle\n",
        "area = calculate_rectangle_area(5, 3)\n",
        "print(f\"The area of the rectangle is: {area}\")"
      ]
    },
    {
      "cell_type": "markdown",
      "metadata": {},
      "source": [
        "## Default Parameter Values\n",
        "\n",
        "We can assign default values to function parameters:"
      ]
    },
    {
      "cell_type": "code",
      "execution_count": null,
      "metadata": {},
      "outputs": [],
      "source": [
        "def power(base, exponent=2):\n",
        "    return base ** exponent\n",
        "\n",
        "# Using the default exponent (2)\n",
        "print(power(3))\n",
        "\n",
        "# Specifying a different exponent\n",
        "print(power(3, 3))"
      ]
    },
    {
      "cell_type": "markdown",
      "metadata": {},
      "source": [
        "## Return Multiple Values\n",
        "\n",
        "Functions can return multiple values as a tuple:"
      ]
    },
    {
      "cell_type": "code",
      "execution_count": null,
      "metadata": {},
      "outputs": [],
      "source": [
        "def min_max(numbers):\n",
        "    return min(numbers), max(numbers)\n",
        "\n",
        "# Let's find the minimum and maximum of a list\n",
        "numbers = [3, 1, 4, 1, 5, 9, 2, 6, 5, 3, 5]\n",
        "minimum, maximum = min_max(numbers)\n",
        "print(f\"Minimum: {minimum}, Maximum: {maximum}\")"
      ]
    },
    {
      "cell_type": "markdown",
      "metadata": {},
      "source": [
        "## Lambda Functions\n",
        "\n",
        "Lambda functions are small, anonymous functions defined using the `lambda` keyword:"
      ]
    },
    {
      "cell_type": "code",
      "execution_count": null,
      "metadata": {},
      "outputs": [],
      "source": [
        "# Define a lambda function to square a number\n",
        "square = lambda x: x**2\n",
        "\n",
        "# Use the lambda function\n",
        "print(square(4))"
      ]
    },
    {
      "cell_type": "markdown",
      "metadata": {},
      "source": [
        "## Conclusion\n",
        "\n",
        "Custom functions are powerful tools in Python that allow you to create reusable, organized code. They can take parameters, have default values, return multiple values, and even be defined as small lambda functions for simple operations."
      ]
    }
  ],
  "metadata": {
    "kernelspec": {
      "display_name": "Python 3",
      "language": "python",
      "name": "python3"
    },
    "language_info": {
      "codemirror_mode": {
        "name": "ipython",
        "version": 3
      },
      "file_extension": ".py",
      "mimetype": "text/x-python",
      "name": "python",
      "nbconvert_exporter": "python",
      "pygments_lexer": "ipython3",
      "version": "3.8.5"
    }
  },
  "nbformat": 4,
  "nbformat_minor": 4
}