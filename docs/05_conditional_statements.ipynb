{
  "cells": [
    {
      "cell_type": "markdown",
      "metadata": {},
      "source": [
        "# Conditional Statements in Python\n",
        "\n",
        "Conditional statements allow us to control the flow of our program based on certain conditions. In this notebook, we'll explore the `if`, `elif`, and `else` statements in Python."
      ]
    },
    {
      "cell_type": "markdown",
      "metadata": {},
      "source": [
        "## The `if` Statement\n",
        "\n",
        "The `if` statement is used to execute a block of code only if a specified condition is true."
      ]
    },
    {
      "cell_type": "code",
      "execution_count": null,
      "metadata": {},
      "outputs": [],
      "source": [
        "x = 10\n",
        "if x > 5:\n",
        "    print(\"x is greater than 5\")"
      ]
    },
    {
      "cell_type": "markdown",
      "metadata": {},
      "source": [
        "## The `else` Statement\n",
        "\n",
        "We can use the `else` statement to execute a block of code when the `if` condition is false."
      ]
    },
    {
      "cell_type": "code",
      "execution_count": null,
      "metadata": {},
      "outputs": [],
      "source": [
        "y = 3\n",
        "if y > 5:\n",
        "    print(\"y is greater than 5\")\n",
        "else:\n",
        "    print(\"y is not greater than 5\")"
      ]
    },
    {
      "cell_type": "markdown",
      "metadata": {},
      "source": [
        "## The `elif` Statement\n",
        "\n",
        "The `elif` (short for \"else if\") statement allows us to check multiple conditions."
      ]
    },
    {
      "cell_type": "code",
      "execution_count": null,
      "metadata": {},
      "outputs": [],
      "source": [
        "z = 5\n",
        "if z > 5:\n",
        "    print(\"z is greater than 5\")\n",
        "elif z < 5:\n",
        "    print(\"z is less than 5\")\n",
        "else:\n",
        "    print(\"z is equal to 5\")"
      ]
    },
    {
      "cell_type": "markdown",
      "metadata": {},
      "source": [
        "## Nested Conditional Statements\n",
        "\n",
        "We can also nest conditional statements inside each other."
      ]
    },
    {
      "cell_type": "code",
      "execution_count": null,
      "metadata": {},
      "outputs": [],
      "source": [
        "a = 10\n",
        "b = 5\n",
        "\n",
        "if a > b:\n",
        "    print(\"a is greater than b\")\n",
        "    if a % 2 == 0:\n",
        "        print(\"a is also even\")\n",
        "    else:\n",
        "        print(\"a is odd\")\n",
        "else:\n",
        "    print(\"a is not greater than b\")"
      ]
    },
    {
      "cell_type": "markdown",
      "metadata": {},
      "source": [
        "## Practice Exercise\n",
        "\n",
        "Write a program that takes a user's age as input and prints different messages based on the following conditions:\n",
        "- If age is less than 13, print \"You're a child\"\n",
        "- If age is between 13 and 19, print \"You're a teenager\"\n",
        "- If age is 20 or greater, print \"You're an adult\"\n",
        "\n",
        "Try running the code with different ages to see how it works!"
      ]
    },
    {
      "cell_type": "code",
      "execution_count": null,
      "metadata": {},
      "outputs": [],
      "source": [
        "age = int(input(\"Enter your age: \"))\n",
        "\n",
        "if age < 13:\n",
        "    print(\"You're a child\")\n",
        "elif age < 20:\n",
        "    print(\"You're a teenager\")\n",
        "else:\n",
        "    print(\"You're an adult\")"
      ]
    }
  ],
  "metadata": {
    "kernelspec": {
      "display_name": "Python 3",
      "language": "python",
      "name": "python3"
    },
    "language_info": {
      "codemirror_mode": {
        "name": "ipython",
        "version": 3
      },
      "file_extension": ".py",
      "mimetype": "text/x-python",
      "name": "python",
      "nbconvert_exporter": "python",
      "pygments_lexer": "ipython3",
      "version": "3.8.5"
    }
  },
  "nbformat": 4,
  "nbformat_minor": 4
}