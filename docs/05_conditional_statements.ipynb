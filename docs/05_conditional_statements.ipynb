{
  "cells": [
    {
      "cell_type": "markdown",
      "metadata": {},
      "source": [
        "# Conditional Statements in Python\n",
        "\n",
        "Conditional statements allow us to make decisions in our code based on certain conditions. In this notebook, we'll explore the basic structure and usage of conditional statements in Python."
      ]
    },
    {
      "cell_type": "markdown",
      "metadata": {},
      "source": [
        "Let's start by importing the required libraries. In this case, we don't need any specific libraries for conditional statements, but it's good practice to include this cell for consistency."
      ]
    },
    {
      "cell_type": "code",
      "execution_count": null,
      "metadata": {},
      "outputs": [],
      "source": [
        "# No specific imports required for this lesson"
      ]
    },
    {
      "cell_type": "markdown",
      "metadata": {},
      "source": [
        "## The 'if' Statement\n",
        "\n",
        "The most basic form of a conditional statement is the 'if' statement. It executes a block of code if a specified condition is true."
      ]
    },
    {
      "cell_type": "markdown",
      "metadata": {},
      "source": [
        "Let's create a simple 'if' statement to check if a number is positive."
      ]
    },
    {
      "cell_type": "code",
      "execution_count": null,
      "metadata": {},
      "outputs": [],
      "source": [
        "number = 5\n",
        "\n",
        "if number > 0:\n",
        "    print(f\"{number} is positive\")"
      ]
    },
    {
      "cell_type": "markdown",
      "metadata": {},
      "source": [
        "## The 'if-else' Statement\n",
        "\n",
        "We can extend the 'if' statement with an 'else' clause to specify what should happen if the condition is false."
      ]
    },
    {
      "cell_type": "markdown",
      "metadata": {},
      "source": [
        "Let's modify our previous example to handle both positive and non-positive numbers."
      ]
    },
    {
      "cell_type": "code",
      "execution_count": null,
      "metadata": {},
      "outputs": [],
      "source": [
        "number = -2\n",
        "\n",
        "if number > 0:\n",
        "    print(f\"{number} is positive\")\n",
        "else:\n",
        "    print(f\"{number} is not positive\")"
      ]
    },
    {
      "cell_type": "markdown",
      "metadata": {},
      "source": [
        "## The 'if-elif-else' Statement\n",
        "\n",
        "For multiple conditions, we can use the 'elif' (short for 'else if') statement. This allows us to check several conditions in sequence."
      ]
    },
    {
      "cell_type": "markdown",
      "metadata": {},
      "source": [
        "Let's create an example that categorizes a number as positive, negative, or zero."
      ]
    },
    {
      "cell_type": "code",
      "execution_count": null,
      "metadata": {},
      "outputs": [],
      "source": [
        "number = 0\n",
        "\n",
        "if number > 0:\n",
        "    print(f\"{number} is positive\")\n",
        "elif number < 0:\n",
        "    print(f\"{number} is negative\")\n",
        "else:\n",
        "    print(f\"{number} is zero\")"
      ]
    },
    {
      "cell_type": "markdown",
      "metadata": {},
      "source": [
        "## Nested Conditional Statements\n",
        "\n",
        "We can also nest conditional statements inside each other for more complex decision-making."
      ]
    },
    {
      "cell_type": "markdown",
      "metadata": {},
      "source": [
        "Let's create an example that categorizes a number and checks if it's even or odd."
      ]
    },
    {
      "cell_type": "code",
      "execution_count": null,
      "metadata": {},
      "outputs": [],
      "source": [
        "number = 4\n",
        "\n",
        "if number != 0:\n",
        "    if number > 0:\n",
        "        print(f\"{number} is positive\")\n",
        "    else:\n",
        "        print(f\"{number} is negative\")\n",
        "    \n",
        "    if number % 2 == 0:\n",
        "        print(f\"{number} is even\")\n",
        "    else:\n",
        "        print(f\"{number} is odd\")\n",
        "else:\n",
        "    print(f\"{number} is zero\")"
      ]
    },
    {
      "cell_type": "markdown",
      "metadata": {},
      "source": [
        "## Conclusion\n",
        "\n",
        "Conditional statements are fundamental to programming logic. They allow your code to make decisions and execute different paths based on specific conditions. Practice using these statements to create more dynamic and responsive programs!"
      ]
    }
  ],
  "metadata": {
    "kernelspec": {
      "display_name": "Python 3",
      "language": "python",
      "name": "python3"
    },
    "language_info": {
      "codemirror_mode": {
        "name": "ipython",
        "version": 3
      },
      "file_extension": ".py",
      "mimetype": "text/x-python",
      "name": "python",
      "nbconvert_exporter": "python",
      "pygments_lexer": "ipython3",
      "version": "3.8.8"
    }
  },
  "nbformat": 4,
  "nbformat_minor": 4
}