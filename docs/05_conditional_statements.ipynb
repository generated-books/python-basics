{
  "cells": [
    {
      "cell_type": "markdown",
      "metadata": {},
      "source": [
        "# Conditional Statements in Python\n",
        "\n",
        "Conditional statements allow us to make decisions in our code based on certain conditions. In Python, we primarily use `if`, `elif`, and `else` statements for this purpose."
      ]
    },
    {
      "cell_type": "markdown",
      "metadata": {},
      "source": [
        "## The `if` Statement\n",
        "\n",
        "The `if` statement is used to execute a block of code only if a specified condition is true."
      ]
    },
    {
      "cell_type": "code",
      "execution_count": null,
      "metadata": {},
      "outputs": [],
      "source": [
        "x = 10\n",
        "if x > 5:\n",
        "    print(\"x is greater than 5\")"
      ]
    },
    {
      "cell_type": "markdown",
      "metadata": {},
      "source": [
        "## The `else` Statement\n",
        "\n",
        "We can use the `else` statement to execute a block of code when the `if` condition is false."
      ]
    },
    {
      "cell_type": "code",
      "execution_count": null,
      "metadata": {},
      "outputs": [],
      "source": [
        "y = 3\n",
        "if y > 5:\n",
        "    print(\"y is greater than 5\")\n",
        "else:\n",
        "    print(\"y is not greater than 5\")"
      ]
    },
    {
      "cell_type": "markdown",
      "metadata": {},
      "source": [
        "## The `elif` Statement\n",
        "\n",
        "The `elif` (short for 'else if') statement allows us to check multiple conditions."
      ]
    },
    {
      "cell_type": "code",
      "execution_count": null,
      "metadata": {},
      "outputs": [],
      "source": [
        "z = 5\n",
        "if z > 5:\n",
        "    print(\"z is greater than 5\")\n",
        "elif z < 5:\n",
        "    print(\"z is less than 5\")\n",
        "else:\n",
        "    print(\"z is equal to 5\")"
      ]
    },
    {
      "cell_type": "markdown",
      "metadata": {},
      "source": [
        "## Nested Conditional Statements\n",
        "\n",
        "We can also nest conditional statements inside each other."
      ]
    },
    {
      "cell_type": "code",
      "execution_count": null,
      "metadata": {},
      "outputs": [],
      "source": [
        "a = 10\n",
        "b = 5\n",
        "if a > b:\n",
        "    print(\"a is greater than b\")\n",
        "    if a > 2 * b:\n",
        "        print(\"a is more than twice b\")"
      ]
    },
    {
      "cell_type": "markdown",
      "metadata": {},
      "source": [
        "## Ternary Operator\n",
        "\n",
        "Python also supports a concise way to write simple if-else statements using the ternary operator."
      ]
    },
    {
      "cell_type": "code",
      "execution_count": null,
      "metadata": {},
      "outputs": [],
      "source": [
        "x = 10\n",
        "result = \"x is positive\" if x > 0 else \"x is non-positive\"\n",
        "print(result)"
      ]
    },
    {
      "cell_type": "markdown",
      "metadata": {},
      "source": [
        "## Practice Exercise\n",
        "\n",
        "Write a program that takes a user's age as input and prints whether they are a child (0-12), teenager (13-19), adult (20-59), or senior (60+)."
      ]
    },
    {
      "cell_type": "code",
      "execution_count": null,
      "metadata": {},
      "outputs": [],
      "source": [
        "age = int(input(\"Enter your age: \"))\n",
        "\n",
        "if age <= 12:\n",
        "    print(\"You are a child.\")\n",
        "elif age <= 19:\n",
        "    print(\"You are a teenager.\")\n",
        "elif age <= 59:\n",
        "    print(\"You are an adult.\")\n",
        "else:\n",
        "    print(\"You are a senior.\")"
      ]
    }
  ],
  "metadata": {
    "kernelspec": {
      "display_name": "Python 3",
      "language": "python",
      "name": "python3"
    },
    "language_info": {
      "codemirror_mode": {
        "name": "ipython",
        "version": 3
      },
      "file_extension": ".py",
      "mimetype": "text/x-python",
      "name": "python",
      "nbconvert_exporter": "python",
      "pygments_lexer": "ipython3",
      "version": "3.8.8"
    }
  },
  "nbformat": 4,
  "nbformat_minor": 4
}