{
  "cells": [
    {
      "cell_type": "markdown",
      "metadata": {},
      "source": [
        "# Plotting with Seaborn\n",
        "\n",
        "Seaborn is a powerful data visualization library built on top of Matplotlib. It provides a high-level interface for drawing attractive and informative statistical graphics. In this notebook, we'll explore some basic plotting techniques using Seaborn."
      ]
    },
    {
      "cell_type": "code",
      "execution_count": null,
      "metadata": {},
      "source": [
        "# Import necessary libraries\n",
        "import seaborn as sns\n",
        "import matplotlib.pyplot as plt\n",
        "import pandas as pd\n",
        "\n",
        "# Set the style for our plots\n",
        "sns.set_style(\"whitegrid\")"
      ]
    },
    {
      "cell_type": "markdown",
      "metadata": {},
      "source": [
        "## Loading a Dataset\n",
        "\n",
        "Seaborn comes with several built-in datasets. Let's start by loading the 'tips' dataset."
      ]
    },
    {
      "cell_type": "code",
      "execution_count": null,
      "metadata": {},
      "source": [
        "# Load the tips dataset\n",
        "tips = sns.load_dataset(\"tips\")\n",
        "\n",
        "# Display the first few rows\n",
        "tips.head()"
      ]
    },
    {
      "cell_type": "markdown",
      "metadata": {},
      "source": [
        "## Scatter Plot\n",
        "\n",
        "Let's create a simple scatter plot to visualize the relationship between total bill and tip."
      ]
    },
    {
      "cell_type": "code",
      "execution_count": null,
      "metadata": {},
      "source": [
        "# Create a scatter plot\n",
        "sns.scatterplot(x=\"total_bill\", y=\"tip\", data=tips)\n",
        "plt.title(\"Tip vs Total Bill\")\n",
        "plt.show()"
      ]
    },
    {
      "cell_type": "markdown",
      "metadata": {},
      "source": [
        "## Box Plot\n",
        "\n",
        "Now, let's create a box plot to compare tips across different days of the week."
      ]
    },
    {
      "cell_type": "code",
      "execution_count": null,
      "metadata": {},
      "source": [
        "# Create a box plot\n",
        "sns.boxplot(x=\"day\", y=\"tip\", data=tips)\n",
        "plt.title(\"Tips by Day of the Week\")\n",
        "plt.show()"
      ]
    },
    {
      "cell_type": "markdown",
      "metadata": {},
      "source": [
        "## Violin Plot\n",
        "\n",
        "A violin plot is similar to a box plot but shows the probability density of the data."
      ]
    },
    {
      "cell_type": "code",
      "execution_count": null,
      "metadata": {},
      "source": [
        "# Create a violin plot\n",
        "sns.violinplot(x=\"day\", y=\"total_bill\", data=tips)\n",
        "plt.title(\"Distribution of Total Bill by Day\")\n",
        "plt.show()"
      ]
    },
    {
      "cell_type": "markdown",
      "metadata": {},
      "source": [
        "## Heatmap\n",
        "\n",
        "Finally, let's create a heatmap to visualize the correlation between numerical variables."
      ]
    },
    {
      "cell_type": "code",
      "execution_count": null,
      "metadata": {},
      "source": [
        "# Compute the correlation matrix\n",
        "corr = tips.corr()\n",
        "\n",
        "# Create a heatmap\n",
        "sns.heatmap(corr, annot=True, cmap=\"coolwarm\")\n",
        "plt.title(\"Correlation Heatmap\")\n",
        "plt.show()"
      ]
    },
    {
      "cell_type": "markdown",
      "metadata": {},
      "source": [
        "This notebook has introduced you to some basic plotting techniques using Seaborn. There are many more plot types and customization options available in Seaborn, which you can explore in the official documentation."
      ]
    }
  ],
  "metadata": {
    "kernelspec": {
      "display_name": "Python 3",
      "language": "python",
      "name": "python3"
    },
    "language_info": {
      "codemirror_mode": {
        "name": "ipython",
        "version": 3
      },
      "file_extension": ".py",
      "mimetype": "text/x-python",
      "name": "python",
      "nbconvert_exporter": "python",
      "pygments_lexer": "ipython3",
      "version": "3.8.8"
    }
  },
  "nbformat": 4,
  "nbformat_minor": 4
}