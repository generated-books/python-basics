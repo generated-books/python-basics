{
  "cells": [
    {
      "cell_type": "markdown",
      "metadata": {},
      "source": [
        "# Plotting with Seaborn\n",
        "\n",
        "Seaborn is a powerful data visualization library built on top of Matplotlib. It provides a high-level interface for creating attractive and informative statistical graphics. In this notebook, we'll explore some basic plotting techniques using Seaborn."
      ]
    },
    {
      "cell_type": "code",
      "execution_count": null,
      "metadata": {},
      "source": [
        "# Import necessary libraries\n",
        "import seaborn as sns\n",
        "import matplotlib.pyplot as plt\n",
        "import pandas as pd\n",
        "\n",
        "# Set the style for better-looking plots\n",
        "sns.set_style(\"whitegrid\")"
      ]
    },
    {
      "cell_type": "markdown",
      "metadata": {},
      "source": [
        "## Loading a Dataset\n",
        "\n",
        "Let's start by loading a dataset. Seaborn comes with several built-in datasets. We'll use the 'tips' dataset for our examples."
      ]
    },
    {
      "cell_type": "code",
      "execution_count": null,
      "metadata": {},
      "source": [
        "# Load the tips dataset\n",
        "tips = sns.load_dataset(\"tips\")\n",
        "\n",
        "# Display the first few rows\n",
        "tips.head()"
      ]
    },
    {
      "cell_type": "markdown",
      "metadata": {},
      "source": [
        "## Creating a Scatter Plot\n",
        "\n",
        "Let's create a simple scatter plot to visualize the relationship between total bill and tip."
      ]
    },
    {
      "cell_type": "code",
      "execution_count": null,
      "metadata": {},
      "source": [
        "# Create a scatter plot\n",
        "sns.scatterplot(x=\"total_bill\", y=\"tip\", data=tips)\n",
        "plt.title(\"Tip vs Total Bill\")\n",
        "plt.show()"
      ]
    },
    {
      "cell_type": "markdown",
      "metadata": {},
      "source": [
        "## Adding a Third Variable with Color\n",
        "\n",
        "We can add more information to our plot by using color to represent a third variable."
      ]
    },
    {
      "cell_type": "code",
      "execution_count": null,
      "metadata": {},
      "source": [
        "# Create a scatter plot with color representing the day\n",
        "sns.scatterplot(x=\"total_bill\", y=\"tip\", hue=\"day\", data=tips)\n",
        "plt.title(\"Tip vs Total Bill by Day\")\n",
        "plt.show()"
      ]
    },
    {
      "cell_type": "markdown",
      "metadata": {},
      "source": [
        "## Creating a Box Plot\n",
        "\n",
        "Box plots are great for comparing distributions across categories."
      ]
    },
    {
      "cell_type": "code",
      "execution_count": null,
      "metadata": {},
      "source": [
        "# Create a box plot\n",
        "sns.boxplot(x=\"day\", y=\"total_bill\", data=tips)\n",
        "plt.title(\"Total Bill Distribution by Day\")\n",
        "plt.show()"
      ]
    },
    {
      "cell_type": "markdown",
      "metadata": {},
      "source": [
        "## Creating a Violin Plot\n",
        "\n",
        "Violin plots are similar to box plots but show the full distribution of the data."
      ]
    },
    {
      "cell_type": "code",
      "execution_count": null,
      "metadata": {},
      "source": [
        "# Create a violin plot\n",
        "sns.violinplot(x=\"day\", y=\"total_bill\", data=tips)\n",
        "plt.title(\"Total Bill Distribution by Day (Violin Plot)\")\n",
        "plt.show()"
      ]
    },
    {
      "cell_type": "markdown",
      "metadata": {},
      "source": [
        "## Creating a Pair Plot\n",
        "\n",
        "Pair plots are useful for exploring relationships between multiple variables at once."
      ]
    },
    {
      "cell_type": "code",
      "execution_count": null,
      "metadata": {},
      "source": [
        "# Create a pair plot\n",
        "sns.pairplot(tips, hue=\"time\")\n",
        "plt.suptitle(\"Pair Plot of Tips Dataset\", y=1.02)\n",
        "plt.show()"
      ]
    },
    {
      "cell_type": "markdown",
      "metadata": {},
      "source": [
        "## Conclusion\n",
        "\n",
        "This notebook has introduced you to some basic plotting techniques using Seaborn. There are many more types of plots and customization options available in Seaborn. Experiment with different plot types and parameters to create visualizations that best represent your data!"
      ]
    }
  ],
  "metadata": {
    "kernelspec": {
      "display_name": "Python 3",
      "language": "python",
      "name": "python3"
    },
    "language_info": {
      "codemirror_mode": {
        "name": "ipython",
        "version": 3
      },
      "file_extension": ".py",
      "mimetype": "text/x-python",
      "name": "python",
      "nbconvert_exporter": "python",
      "pygments_lexer": "ipython3",
      "version": "3.8.8"
    }
  },
  "nbformat": 4,
  "nbformat_minor": 4
}