{
 "cells": [
  {
   "cell_type": "markdown",
   "id": "87404224-b84b-409f-8683-c4a243d29722",
   "metadata": {},
   "source": [
    "# Generating a Jupyter book about Python basics\n",
    "In this notebook we will generate a Jupyter book using a large language model. We use Claude 3.5 Sonnet, because I couldn't make it work with gpt4-omni :D"
   ]
  },
  {
   "cell_type": "code",
   "execution_count": 1,
   "id": "752e974d-9aaf-44aa-80fb-01a042cf5774",
   "metadata": {
    "tags": []
   },
   "outputs": [
    {
     "data": {
      "text/plain": [
       "('1.30.1', '0.29.0')"
      ]
     },
     "execution_count": 1,
     "metadata": {},
     "output_type": "execute_result"
    }
   ],
   "source": [
    "import anthropic\n",
    "import openai\n",
    "import datetime\n",
    "import os\n",
    "from pathlib import Path\n",
    "from functools import partial\n",
    "from IPython.display import Markdown, display\n",
    "openai.__version__, anthropic.__version__"
   ]
  },
  {
   "cell_type": "markdown",
   "id": "944d3a85-c367-41f8-94dd-87e0b4187740",
   "metadata": {},
   "source": [
    "## Defining the content of the book\n",
    "The topic of the book will be specified and also the table of contents:"
   ]
  },
  {
   "cell_type": "code",
   "execution_count": 2,
   "id": "de2375a5-d453-4c58-9b31-9baf19914e52",
   "metadata": {},
   "outputs": [],
   "source": [
    "topic = \"Python basics\""
   ]
  },
  {
   "cell_type": "code",
   "execution_count": 3,
   "id": "cf2c99e3-ae03-41d0-b6dd-350181cdd9bf",
   "metadata": {},
   "outputs": [],
   "source": [
    "# The table of contents must be a markdown list with * at the beginning of every line.\n",
    "toc = \"\"\"\n",
    "* Introduction to Jupyter notebooks\n",
    "* Mathematical operations\n",
    "* Data Types: Lists, Tuples, Dictionaries\n",
    "* For-loops\n",
    "* Conditional statements\n",
    "* Custom functions\n",
    "* Image Processing with sckit-image\n",
    "* Tabular data wrangling with pandas\n",
    "* Plotting with seaborn\n",
    "* Random forest classifiers in scikit-learn\n",
    "\"\"\""
   ]
  },
  {
   "cell_type": "markdown",
   "id": "4e07f0b9-9eda-47c2-9e1b-0873930ec5b0",
   "metadata": {},
   "source": [
    "We will also specify the location where to store the book:"
   ]
  },
  {
   "cell_type": "code",
   "execution_count": 4,
   "id": "9ea1686b-9098-429a-b216-121a3f46f1db",
   "metadata": {},
   "outputs": [],
   "source": [
    "base_dir = \"\"\n",
    "repository_url = \"https://github.com/generated-books/python-basics\""
   ]
  },
  {
   "cell_type": "markdown",
   "id": "bef14a82-c1ac-4367-a83f-067923eae779",
   "metadata": {},
   "source": [
    "We will use this language model to generate the book:"
   ]
  },
  {
   "cell_type": "code",
   "execution_count": 5,
   "id": "59e3b22c-f57c-41c1-8a13-8049e23b3e72",
   "metadata": {},
   "outputs": [],
   "source": [
    "model = \"claude-3-5-sonnet-20240620\""
   ]
  },
  {
   "cell_type": "markdown",
   "id": "6903cd45-0b6b-4090-8597-cc4f644cae38",
   "metadata": {},
   "source": [
    "## Helper functions\n",
    "Here we create some helper functions for prompting and for file format handling."
   ]
  },
  {
   "cell_type": "code",
   "execution_count": 6,
   "id": "e686a0f1-9561-426a-b5b8-d222f7966109",
   "metadata": {
    "tags": []
   },
   "outputs": [],
   "source": [
    "def prompt_chatGPT(message:str, model=\"gpt-4o-2024-05-13\"):\n",
    "    \"\"\"\n",
    "    A prompt helper function that sends a message to openAI\n",
    "    and returns only the text response.\n",
    "    \"\"\"\n",
    "    import os\n",
    "    import openai\n",
    "    \n",
    "    # convert message in the right format if necessary\n",
    "    if isinstance(message, str):\n",
    "        message = [{\"role\": \"user\", \"content\": message}]\n",
    "        \n",
    "    # setup connection to the LLM\n",
    "    client = openai.OpenAI()\n",
    "    \n",
    "    # submit prompt\n",
    "    response = client.chat.completions.create(\n",
    "        model=model,\n",
    "        messages=message\n",
    "    )\n",
    "    \n",
    "    # extract answer\n",
    "    return response.choices[0].message.content"
   ]
  },
  {
   "cell_type": "code",
   "execution_count": 7,
   "id": "8ea088a7-f187-4c4e-a269-833e14a957d4",
   "metadata": {},
   "outputs": [],
   "source": [
    "def prompt_claude(message:str, model=\"claude-3-5-sonnet-20240620\"):\n",
    "    \"\"\"\n",
    "    A prompt helper function that sends a message to anthropic\n",
    "    and returns only the text response.\n",
    "\n",
    "    Example models: claude-3-5-sonnet-20240620 or claude-3-opus-20240229\n",
    "    \"\"\"\n",
    "    import os\n",
    "    from anthropic import Anthropic\n",
    "    \n",
    "    # convert message in the right format if necessary\n",
    "    if isinstance(message, str):\n",
    "        message = [{\"role\": \"user\", \"content\": message}]\n",
    "        \n",
    "    # setup connection to the LLM\n",
    "    client = Anthropic()\n",
    "    \n",
    "    message = client.messages.create(\n",
    "        max_tokens=4096,\n",
    "        messages=message,\n",
    "        model=model,\n",
    "    )\n",
    "\n",
    "    # extract answer\n",
    "    return message.content[0].text"
   ]
  },
  {
   "cell_type": "code",
   "execution_count": 8,
   "id": "721c3126-67a5-4a65-8bfb-c054bd4dd153",
   "metadata": {
    "tags": []
   },
   "outputs": [],
   "source": [
    "if \"gpt\" in model:\n",
    "    prompt = partial(prompt_gpt, model=model)\n",
    "else:\n",
    "    prompt = partial(prompt_claude, model=model)    "
   ]
  },
  {
   "cell_type": "code",
   "execution_count": 9,
   "id": "a137f79a-287c-4283-8e66-53c8863cdc86",
   "metadata": {
    "tags": []
   },
   "outputs": [],
   "source": [
    "def prompt_with_memory(message:str):\n",
    "    \"\"\"\n",
    "    This function allows to use an LLMs in a chat-mode. \n",
    "    The LLM is equipped with some memory, \n",
    "    so that we can refer back for former conversation steps.\n",
    "    \"\"\"\n",
    "    \n",
    "    # convert message in the right format and store it in memory\n",
    "    question = {\"role\": \"user\", \"content\": message}\n",
    "    chat_history.append(question)\n",
    "    \n",
    "    # receive answer\n",
    "    response = prompt(chat_history)\n",
    "    \n",
    "    # convert answer in the right format and store it in memory\n",
    "    answer = {\"role\": \"assistant\", \"content\": response}\n",
    "    chat_history.append(answer)\n",
    "    \n",
    "    return response"
   ]
  },
  {
   "cell_type": "code",
   "execution_count": 10,
   "id": "f8c8b27a-77f0-431d-a68c-ee4b19f647b0",
   "metadata": {},
   "outputs": [],
   "source": [
    "def is_valid_json(test_string):\n",
    "    \"\"\"This function returns if a string is formatted json.\"\"\"\n",
    "    import json\n",
    "    try:\n",
    "        json.loads(test_string)\n",
    "        return True\n",
    "    except:\n",
    "        return False\n",
    "\n",
    "def ensure_json(notebook):\n",
    "    \"\"\"This function makes sure that the passed notebook is indeed a json-formatted ipynb file.\"\"\"\n",
    "    if is_valid_json(notebook):\n",
    "        return notebook\n",
    "        \n",
    "    return prompt(f\"\"\"\n",
    "Take the following text and extract the Jupyter \n",
    "notebook ipynb/json from it:\n",
    "\n",
    "{notebook}\n",
    "\n",
    "Make sure the output is in ipynb/json format. \n",
    "Respond only the JSON content.\n",
    "\"\"\").strip(\"```json\").strip(\"```python\").strip(\"```\")"
   ]
  },
  {
   "cell_type": "markdown",
   "id": "093a5b4c-29d7-4ec7-b7e2-f232a695f960",
   "metadata": {},
   "source": [
    "## Context\n",
    "Here we provide some context to the language model. As gpt4 and claude have different APIs for providing system messages, we instead use this message to start the conversation."
   ]
  },
  {
   "cell_type": "code",
   "execution_count": 11,
   "id": "eeab283c-8453-4cd7-a0d8-0583c2bd64ea",
   "metadata": {},
   "outputs": [],
   "source": [
    "system_message = f\"\"\"\n",
    "You are data scientist and statistician. \n",
    "You have didactic skills and you can explain data analysis very well.\n",
    "You are about to write a Jupyter book consisting of multiple Jupyter notebooks about a given topic.\n",
    "\n",
    "When writing a notebook, always keep the code in the code cells concise. \n",
    "Do only one thing and let the user see the intermediate result.\n",
    "Then, continue with the next thing in a new code cell.\n",
    "\n",
    "Confirm this with \"ok\".\n",
    "\"\"\"\n",
    "\n",
    "chat_history = [{\"role\": \"user\", \"content\": system_message}, {\"role\": \"assistant\", \"content\": \"ok\"}]"
   ]
  },
  {
   "cell_type": "markdown",
   "id": "795c0439-09db-4eb7-b13c-be4d5eb15137",
   "metadata": {},
   "source": [
    "We just test if the chat mode works:"
   ]
  },
  {
   "cell_type": "code",
   "execution_count": 12,
   "id": "37c6e8e1-04eb-43b4-b259-b47f6a0907e8",
   "metadata": {
    "tags": []
   },
   "outputs": [
    {
     "data": {
      "text/plain": [
       "\"Hello Robert Haase! It's great to meet you. I'm ready to assist you with creating a Jupyter book consisting of multiple Jupyter notebooks. As a data scientist and statistician with didactic skills, I'll do my best to explain data analysis concepts clearly and concisely. \\n\\nI'll make sure to keep the code in each cell focused on a single task and show intermediate results, allowing for a step-by-step learning experience. Is there a specific topic you'd like to cover in this Jupyter book? I'm here to help you get started and answer any questions you might have along the way.\""
      ]
     },
     "execution_count": 12,
     "metadata": {},
     "output_type": "execute_result"
    }
   ],
   "source": [
    "prompt_with_memory(\"Hi, my name is Robert Haase.\")"
   ]
  },
  {
   "cell_type": "code",
   "execution_count": 13,
   "id": "3153f9b3-1de7-4e9d-9e63-ded31362680a",
   "metadata": {
    "tags": []
   },
   "outputs": [
    {
     "data": {
      "text/plain": [
       "'Your name is Robert Haase.'"
      ]
     },
     "execution_count": 13,
     "metadata": {},
     "output_type": "execute_result"
    }
   ],
   "source": [
    "prompt_with_memory(\"What is my name?\")"
   ]
  },
  {
   "cell_type": "markdown",
   "id": "a80975a9-6422-4158-847a-a77519b8194d",
   "metadata": {},
   "source": [
    "## Chatting about book content\n",
    "We start chatting with the LLM about the book's content. It is key that the LLM _knows_ about all the content of the book before it starts generating the first notebook."
   ]
  },
  {
   "cell_type": "code",
   "execution_count": 14,
   "id": "edefdb37-602d-4864-8ab3-f590bc6c8ba2",
   "metadata": {},
   "outputs": [
    {
     "data": {
      "text/markdown": [
       "Certainly, Robert! That's an excellent list of topics for teaching Python basics and data science fundamentals. For the Jupyter book you're planning to create, the following Python libraries will be relevant:\n",
       "\n",
       "1. Jupyter: For creating and running the interactive notebooks.\n",
       "2. NumPy: Essential for mathematical operations and working with arrays.\n",
       "3. scikit-image: For image processing tasks.\n",
       "4. pandas: For tabular data manipulation and analysis.\n",
       "5. seaborn: For statistical data visualization.\n",
       "6. matplotlib: As the underlying library for seaborn and general plotting.\n",
       "7. scikit-learn: For machine learning, specifically random forest classifiers.\n",
       "\n",
       "Additionally, you'll be using core Python libraries and built-in functions for topics such as:\n",
       "\n",
       "- Mathematical operations\n",
       "- Data types (lists, tuples, dictionaries)\n",
       "- Control structures (for-loops, conditional statements)\n",
       "- Defining custom functions\n",
       "\n",
       "These libraries cover all the aspects you've mentioned and will provide a solid foundation for learners to understand Python basics and progress into data science and machine learning concepts.\n",
       "\n",
       "Would you like me to start drafting the structure of the Jupyter book or provide more details on any specific topic?"
      ],
      "text/plain": [
       "<IPython.core.display.Markdown object>"
      ]
     },
     "execution_count": 14,
     "metadata": {},
     "output_type": "execute_result"
    }
   ],
   "source": [
    "Markdown(prompt_with_memory(f\"\"\"\n",
    "I would like to teach others in {topic} and cover these aspects:\n",
    "{toc}\n",
    "\n",
    "Therefore, it would be great to have training material in the form of a Jupyter book.\n",
    "\n",
    "Which Python libraries are relevant in this context? Do not write any Python code yet.\n",
    "\"\"\"))"
   ]
  },
  {
   "cell_type": "markdown",
   "id": "28eccf60-0cd3-4600-939a-7b94e00624db",
   "metadata": {},
   "source": [
    "## Generating the book\n",
    "Here we start generating the notebooks for the content listed in the table of contents."
   ]
  },
  {
   "cell_type": "code",
   "execution_count": 15,
   "id": "be6fefdf-c1cc-4ce0-9521-7f8f2b6b3feb",
   "metadata": {},
   "outputs": [
    {
     "name": "stdout",
     "output_type": "stream",
     "text": [
      "Introduction to Jupyter notebooks : docs\\01_introduction_to_jupyter_notebooks.ipynb\n",
      "Mathematical operations : docs\\02_mathematical_operations.ipynb\n",
      "Data Types: Lists, Tuples, Dictionaries : docs\\03_data_types_lists_tuples_dictionaries.ipynb\n",
      "For-loops : docs\\04_for_loops.ipynb\n",
      "Conditional statements : docs\\05_conditional_statements.ipynb\n",
      "Custom functions : docs\\06_custom_functions.ipynb\n",
      "Image Processing with sckit-image : docs\\07_image_processing_with_scikit_image.ipynb\n",
      "Tabular data wrangling with pandas : docs\\08_tabular_data_wrangling_with_pandas.ipynb\n",
      "Plotting with seaborn : docs\\09_plotting_with_seaborn.ipynb\n",
      "Random forest classifiers in scikit-learn : docs\\10_random_forest_classifiers_scikit_learn.ipynb\n"
     ]
    }
   ],
   "source": [
    "contents = toc.strip(\"\\n\").strip(\"* \").split(\"\\n* \")\n",
    "\n",
    "for i, subtopic in enumerate(contents):\n",
    "    notebook = ensure_json(prompt(\n",
    "        [{\"role\": \"user\", \"content\": system_message},\n",
    "         {\"role\": \"assistant\", \"content\": \"ok\"},\n",
    "         {\"role\": \"user\", \"content\": f\"\"\"\n",
    "    Please write a Jupyter notebook in json format about \"{subtopic}\" as part of a course about {topic}.\n",
    "    Respond only the JSON content.\n",
    "    \"\"\"}])).strip(\"```json\").strip(\"```python\").strip(\"```\")\n",
    "\n",
    "    # f\"{i:02}_\" + \n",
    "    filename = Path(base_dir) / \"docs\" / prompt_with_memory(f\"What would be a good filename for the '{subtopic}' notebook? Make sure it contains no spaces and ends with .ipynb . Respond with the filename only.\")\n",
    "\n",
    "    directory = directory = Path(filename).parent\n",
    "    os.makedirs(directory, exist_ok=True)\n",
    "    with open(filename, 'w', encoding='utf-8') as file:\n",
    "        file.write(notebook)\n",
    "\n",
    "    print(subtopic, \":\", filename)"
   ]
  },
  {
   "cell_type": "markdown",
   "id": "4e183b86-e01e-4baa-8a1e-388f77875c13",
   "metadata": {},
   "source": [
    "## Generating additional text and config files\n",
    "We would like to build the book automatically, and we also need some introduction texts and documentation. Now that the individual notebooks have been built, we can generate those additional files as well."
   ]
  },
  {
   "cell_type": "code",
   "execution_count": 16,
   "id": "8f69c914-e7e4-431d-82dc-a8a6c9c90b71",
   "metadata": {},
   "outputs": [
    {
     "name": "stdout",
     "output_type": "stream",
     "text": [
      "docs\\intro.md\n",
      "docs\\_toc.yml\n",
      "docs\\requirements.txt\n",
      "docs\\_config.yml\n",
      ".github\\workflows\\book.yml\n",
      "readme.md\n"
     ]
    }
   ],
   "source": [
    "docs_folder = Path(base_dir) / \"docs\"\n",
    "today = datetime.date.today().strftime(\"%B %d, %Y\")\n",
    "\n",
    "more_files = {\n",
    "    Path(base_dir) / \"docs\" / \"intro.md\": \n",
    "f\"\"\"\n",
    "Create a intro.md file for a jupyter book that contains all Jupyter notebooks we just created. \n",
    "The introduction should give an overview in text form and with bullet points linking to the notebooks.\n",
    "Mention that the entire book is AI-generated.\n",
    "The repository url of the book is `{repository_url}`.\n",
    "Mention that the `generator.ipynb` file in the github repository contains all the code used for generating the book. Add a link to this file.\n",
    "Respond the content of this file only.\n",
    "\"\"\",\n",
    "    \n",
    "    Path(base_dir) / \"docs\" / \"_toc.yml\": \n",
    "\"\"\"\n",
    "Build a table of contents in Jupytyer book yml format.\n",
    "First, mention the intro.md file.\n",
    "Please give me the list of all notebook filenames we just created. \n",
    "Put them in a _yml file for a Jupyter book.\n",
    "Respond the content of this file only.\n",
    "\"\"\",\n",
    "\n",
    "    Path(base_dir) / \"docs\" / \"requirements.txt\":\n",
    "f\"\"\"\n",
    "A requirements.txt file in the `docs` folder containing all python libraries used in this Jupyter book.\n",
    "Respond the content of this file only.\n",
    "\"\"\",\n",
    "    \n",
    "    Path(base_dir) / \"docs\" / \"_config.yml\": \n",
    "f\"\"\"\n",
    "Create a minimal config.yml file for the jupyter book.\n",
    "The book will be uploaded to this github repository: {repository_url}\n",
    "Make sure the notebooks will be executed when the book is built.\n",
    "The icon for the book is saved in ../icon.png\n",
    "Note that today is {today}.\n",
    "Respond the content of this file only.\n",
    "\"\"\",\n",
    "    \n",
    "    Path(base_dir) / \".github\" / \"workflows\" / \"book.yml\": \n",
    "f\"\"\"\n",
    "Write a Github workflow file that builds the book and uploads the content to the gh_pages branch.\n",
    "The book is stored in the `{docs_folder}` folder of the respository.\n",
    "Respond the content of this file only.\n",
    "\"\"\",\n",
    "\n",
    "    Path(base_dir) / \"readme.md\": \n",
    "f\"\"\"\n",
    "Create a readme.md file for the jupyter book. \n",
    "Give instructions how to build the book.\n",
    "Mention that the entire book is AI-generated. \n",
    "Mention that the `generator.ipynb` file in the github repository contains all the code used for generating the book.\n",
    "Respond the content of this file only.\n",
    "\"\"\",\n",
    "\n",
    "}\n",
    "\n",
    "for filename, task in more_files.items():\n",
    "    file_content = prompt_with_memory(task)\n",
    "\n",
    "    directory = Path(filename).parent\n",
    "    os.makedirs(directory, exist_ok=True)\n",
    "    \n",
    "    with open(filename, 'w', encoding='utf-8') as file:\n",
    "        file.write(file_content)\n",
    "\n",
    "    print(filename)"
   ]
  },
  {
   "cell_type": "markdown",
   "id": "f7ce81eb-5734-4d54-a7f9-801327a8e0b7",
   "metadata": {},
   "source": [
    "## Chat history\n",
    "For documentation purposes, we output the entire chat with the LLM. Note: The notebooks were generated without storing the notebooks in the chat-history because that would make the history too quickly too long."
   ]
  },
  {
   "cell_type": "code",
   "execution_count": 17,
   "id": "ecab490c-0cf0-4bf2-8266-585c2450d7f6",
   "metadata": {},
   "outputs": [
    {
     "data": {
      "text/plain": [
       "[{'role': 'user',\n",
       "  'content': '\\nYou are data scientist and statistician. \\nYou have didactic skills and you can explain data analysis very well.\\nYou are about to write a Jupyter book consisting of multiple Jupyter notebooks about a given topic.\\n\\nWhen writing a notebook, always keep the code in the code cells concise. \\nDo only one thing and let the user see the intermediate result.\\nThen, continue with the next thing in a new code cell.\\n\\nConfirm this with \"ok\".\\n'},\n",
       " {'role': 'assistant', 'content': 'ok'},\n",
       " {'role': 'user', 'content': 'Hi, my name is Robert Haase.'},\n",
       " {'role': 'assistant',\n",
       "  'content': \"Hello Robert Haase! It's great to meet you. I'm ready to assist you with creating a Jupyter book consisting of multiple Jupyter notebooks. As a data scientist and statistician with didactic skills, I'll do my best to explain data analysis concepts clearly and concisely. \\n\\nI'll make sure to keep the code in each cell focused on a single task and show intermediate results, allowing for a step-by-step learning experience. Is there a specific topic you'd like to cover in this Jupyter book? I'm here to help you get started and answer any questions you might have along the way.\"},\n",
       " {'role': 'user', 'content': 'What is my name?'},\n",
       " {'role': 'assistant', 'content': 'Your name is Robert Haase.'},\n",
       " {'role': 'user',\n",
       "  'content': '\\nI would like to teach others in Python basics and cover these aspects:\\n\\n* Introduction to Jupyter notebooks\\n* Mathematical operations\\n* Data Types: Lists, Tuples, Dictionaries\\n* For-loops\\n* Conditional statements\\n* Custom functions\\n* Image Processing with sckit-image\\n* Tabular data wrangling with pandas\\n* Plotting with seaborn\\n* Random forest classifiers in scikit-learn\\n\\n\\nTherefore, it would be great to have training material in the form of a Jupyter book.\\n\\nWhich Python libraries are relevant in this context? Do not write any Python code yet.\\n'},\n",
       " {'role': 'assistant',\n",
       "  'content': \"Certainly, Robert! That's an excellent list of topics for teaching Python basics and data science fundamentals. For the Jupyter book you're planning to create, the following Python libraries will be relevant:\\n\\n1. Jupyter: For creating and running the interactive notebooks.\\n2. NumPy: Essential for mathematical operations and working with arrays.\\n3. scikit-image: For image processing tasks.\\n4. pandas: For tabular data manipulation and analysis.\\n5. seaborn: For statistical data visualization.\\n6. matplotlib: As the underlying library for seaborn and general plotting.\\n7. scikit-learn: For machine learning, specifically random forest classifiers.\\n\\nAdditionally, you'll be using core Python libraries and built-in functions for topics such as:\\n\\n- Mathematical operations\\n- Data types (lists, tuples, dictionaries)\\n- Control structures (for-loops, conditional statements)\\n- Defining custom functions\\n\\nThese libraries cover all the aspects you've mentioned and will provide a solid foundation for learners to understand Python basics and progress into data science and machine learning concepts.\\n\\nWould you like me to start drafting the structure of the Jupyter book or provide more details on any specific topic?\"},\n",
       " {'role': 'user',\n",
       "  'content': \"What would be a good filename for the 'Introduction to Jupyter notebooks' notebook? Make sure it contains no spaces and ends with .ipynb . Respond with the filename only.\"},\n",
       " {'role': 'assistant',\n",
       "  'content': '01_introduction_to_jupyter_notebooks.ipynb'},\n",
       " {'role': 'user',\n",
       "  'content': \"What would be a good filename for the 'Mathematical operations' notebook? Make sure it contains no spaces and ends with .ipynb . Respond with the filename only.\"},\n",
       " {'role': 'assistant', 'content': '02_mathematical_operations.ipynb'},\n",
       " {'role': 'user',\n",
       "  'content': \"What would be a good filename for the 'Data Types: Lists, Tuples, Dictionaries' notebook? Make sure it contains no spaces and ends with .ipynb . Respond with the filename only.\"},\n",
       " {'role': 'assistant',\n",
       "  'content': '03_data_types_lists_tuples_dictionaries.ipynb'},\n",
       " {'role': 'user',\n",
       "  'content': \"What would be a good filename for the 'For-loops' notebook? Make sure it contains no spaces and ends with .ipynb . Respond with the filename only.\"},\n",
       " {'role': 'assistant', 'content': '04_for_loops.ipynb'},\n",
       " {'role': 'user',\n",
       "  'content': \"What would be a good filename for the 'Conditional statements' notebook? Make sure it contains no spaces and ends with .ipynb . Respond with the filename only.\"},\n",
       " {'role': 'assistant', 'content': '05_conditional_statements.ipynb'},\n",
       " {'role': 'user',\n",
       "  'content': \"What would be a good filename for the 'Custom functions' notebook? Make sure it contains no spaces and ends with .ipynb . Respond with the filename only.\"},\n",
       " {'role': 'assistant', 'content': '06_custom_functions.ipynb'},\n",
       " {'role': 'user',\n",
       "  'content': \"What would be a good filename for the 'Image Processing with sckit-image' notebook? Make sure it contains no spaces and ends with .ipynb . Respond with the filename only.\"},\n",
       " {'role': 'assistant',\n",
       "  'content': '07_image_processing_with_scikit_image.ipynb'},\n",
       " {'role': 'user',\n",
       "  'content': \"What would be a good filename for the 'Tabular data wrangling with pandas' notebook? Make sure it contains no spaces and ends with .ipynb . Respond with the filename only.\"},\n",
       " {'role': 'assistant',\n",
       "  'content': '08_tabular_data_wrangling_with_pandas.ipynb'},\n",
       " {'role': 'user',\n",
       "  'content': \"What would be a good filename for the 'Plotting with seaborn' notebook? Make sure it contains no spaces and ends with .ipynb . Respond with the filename only.\"},\n",
       " {'role': 'assistant', 'content': '09_plotting_with_seaborn.ipynb'},\n",
       " {'role': 'user',\n",
       "  'content': \"What would be a good filename for the 'Random forest classifiers in scikit-learn' notebook? Make sure it contains no spaces and ends with .ipynb . Respond with the filename only.\"},\n",
       " {'role': 'assistant',\n",
       "  'content': '10_random_forest_classifiers_scikit_learn.ipynb'},\n",
       " {'role': 'user',\n",
       "  'content': '\\nCreate a intro.md file for a jupyter book that contains all Jupyter notebooks we just created. \\nThe introduction should give an overview in text form and with bullet points linking to the notebooks.\\nMention that the entire book is AI-generated.\\nThe repository url of the book is `https://github.com/generated-books/python-basics`.\\nMention that the `generator.ipynb` file in the github repository contains all the code used for generating the book. Add a link to this file.\\nRespond the content of this file only.\\n'},\n",
       " {'role': 'assistant',\n",
       "  'content': \"# Introduction to Python Basics\\n\\nWelcome to this comprehensive guide on Python basics and data science fundamentals. This Jupyter book is designed to take you from the basics of Python programming to more advanced concepts in data analysis and machine learning.\\n\\nThis entire book is AI-generated, providing a structured and methodical approach to learning Python and its applications in data science.\\n\\n## Repository\\n\\nYou can find the source code for this book in the following GitHub repository:\\n[https://github.com/generated-books/python-basics](https://github.com/generated-books/python-basics)\\n\\nThe process of generating this book is fully transparent. You can view the code used to create this book in the [`generator.ipynb`](https://github.com/generated-books/python-basics/blob/main/generator.ipynb) file within the repository.\\n\\n## Contents\\n\\nThis book covers the following topics:\\n\\n* [Introduction to Jupyter Notebooks](01_introduction_to_jupyter_notebooks.ipynb)\\n* [Mathematical Operations](02_mathematical_operations.ipynb)\\n* [Data Types: Lists, Tuples, Dictionaries](03_data_types_lists_tuples_dictionaries.ipynb)\\n* [For-loops](04_for_loops.ipynb)\\n* [Conditional Statements](05_conditional_statements.ipynb)\\n* [Custom Functions](06_custom_functions.ipynb)\\n* [Image Processing with scikit-image](07_image_processing_with_scikit_image.ipynb)\\n* [Tabular Data Wrangling with pandas](08_tabular_data_wrangling_with_pandas.ipynb)\\n* [Plotting with seaborn](09_plotting_with_seaborn.ipynb)\\n* [Random Forest Classifiers in scikit-learn](10_random_forest_classifiers_scikit_learn.ipynb)\\n\\nEach notebook is designed to be interactive, allowing you to run code and see results in real-time. We encourage you to experiment with the code and modify it to deepen your understanding.\\n\\nWhether you're a beginner looking to start your journey in Python programming or an experienced developer wanting to brush up on data science concepts, this book has something for everyone. Let's begin our exploration of Python and its powerful ecosystem for data analysis and machine learning!\"},\n",
       " {'role': 'user',\n",
       "  'content': '\\nBuild a table of contents in Jupytyer book yml format.\\nFirst, mention the intro.md file.\\nPlease give me the list of all notebook filenames we just created. \\nPut them in a _yml file for a Jupyter book.\\nRespond the content of this file only.\\n'},\n",
       " {'role': 'assistant',\n",
       "  'content': '# Table of contents\\n# Learn more at https://jupyterbook.org/customize/toc.html\\n\\nformat: jb-book\\nroot: intro\\nchapters:\\n- file: 01_introduction_to_jupyter_notebooks\\n- file: 02_mathematical_operations\\n- file: 03_data_types_lists_tuples_dictionaries\\n- file: 04_for_loops\\n- file: 05_conditional_statements\\n- file: 06_custom_functions\\n- file: 07_image_processing_with_scikit_image\\n- file: 08_tabular_data_wrangling_with_pandas\\n- file: 09_plotting_with_seaborn\\n- file: 10_random_forest_classifiers_scikit_learn'},\n",
       " {'role': 'user',\n",
       "  'content': '\\nA requirements.txt file in the `docs` folder containing all python libraries used in this Jupyter book.\\nRespond the content of this file only.\\n'},\n",
       " {'role': 'assistant',\n",
       "  'content': 'jupyter-book\\nnumpy\\nscikit-image\\npandas\\nseaborn\\nmatplotlib\\nscikit-learn'},\n",
       " {'role': 'user',\n",
       "  'content': '\\nCreate a minimal config.yml file for the jupyter book.\\nThe book will be uploaded to this github repository: https://github.com/generated-books/python-basics\\nMake sure the notebooks will be executed when the book is built.\\nThe icon for the book is saved in ../icon.png\\nNote that today is June 23, 2024.\\nRespond the content of this file only.\\n'},\n",
       " {'role': 'assistant',\n",
       "  'content': '# Book settings\\ntitle: Python Basics and Data Science Fundamentals\\nauthor: AI-Generated\\nlogo: ../icon.png\\ncopyright: \"2024\"\\nexecute:\\n  execute_notebooks: force\\n\\n# Information about where the book exists on the web\\nrepository:\\n  url: https://github.com/generated-books/python-basics\\n  path_to_book: docs\\n\\n# Add GitHub buttons to your book\\nhtml:\\n  use_issues_button: true\\n  use_repository_button: true\\n\\n# LaTeX settings\\nlatex:\\n  latex_documents:\\n    targetname: book.tex\\n\\n# Launch button settings\\nlaunch_buttons:\\n  notebook_interface: jupyterlab\\n  binderhub_url: \"\"\\n\\n# Date of last update\\nlast_updated: \"June 23, 2024\"'},\n",
       " {'role': 'user',\n",
       "  'content': '\\nWrite a Github workflow file that builds the book and uploads the content to the gh_pages branch.\\nThe book is stored in the `docs` folder of the respository.\\nRespond the content of this file only.\\n'},\n",
       " {'role': 'assistant',\n",
       "  'content': 'name: deploy-book\\n\\non:\\n  push:\\n    branches:\\n      - main\\n\\njobs:\\n  deploy-book:\\n    runs-on: ubuntu-latest\\n    steps:\\n    - uses: actions/checkout@v2\\n\\n    - name: Set up Python\\n      uses: actions/setup-python@v2\\n      with:\\n        python-version: 3.9\\n\\n    - name: Install dependencies\\n      run: |\\n        pip install -r docs/requirements.txt\\n\\n    - name: Build the book\\n      run: |\\n        jupyter-book build docs/\\n\\n    - name: GitHub Pages action\\n      uses: peaceiris/actions-gh-pages@v3.6.1\\n      with:\\n        github_token: ${{ secrets.GITHUB_TOKEN }}\\n        publish_dir: docs/_build/html'},\n",
       " {'role': 'user',\n",
       "  'content': '\\nCreate a readme.md file for the jupyter book. \\nGive instructions how to build the book.\\nMention that the entire book is AI-generated. \\nMention that the `generator.ipynb` file in the github repository contains all the code used for generating the book.\\nRespond the content of this file only.\\n'},\n",
       " {'role': 'assistant',\n",
       "  'content': '# Python Basics and Data Science Fundamentals\\n\\nThis repository contains an AI-generated Jupyter Book on Python basics and data science fundamentals. The book covers a range of topics from introductory Python programming to more advanced concepts in data analysis and machine learning.\\n\\n## AI-Generated Content\\n\\nThe entire content of this book, including all Jupyter notebooks, has been generated using AI. The process of generation and the code used to create this book can be found in the [`generator.ipynb`](generator.ipynb) file in this repository.\\n\\n## Building the Book\\n\\nTo build the book locally, follow these steps:\\n\\n1. Clone this repository:\\n   ```\\n   git clone https://github.com/generated-books/python-basics.git\\n   cd python-basics\\n   ```\\n\\n2. Install the required dependencies:\\n   ```\\n   pip install -r docs/requirements.txt\\n   ```\\n\\n3. Build the book:\\n   ```\\n   jupyter-book build docs/\\n   ```\\n\\n4. The built book will be in the `docs/_build/html/` directory. You can open the `index.html` file in your web browser to view the book.\\n\\n## Online Version\\n\\nThe online version of this book is available at: https://generated-books.github.io/python-basics\\n\\n## Contributing\\n\\nAs this is an AI-generated book, we do not accept direct contributions to the content. However, if you notice any issues or have suggestions for improvements, please open an issue in this repository.\\n\\n## License\\n\\nThis book is released under the [MIT License](LICENSE).'}]"
      ]
     },
     "execution_count": 17,
     "metadata": {},
     "output_type": "execute_result"
    }
   ],
   "source": [
    "chat_history"
   ]
  },
  {
   "cell_type": "markdown",
   "id": "f31ea97f-aad1-474a-b289-c5b606c0c335",
   "metadata": {},
   "source": [
    "This is just an approximation of the number of tokens in the chat history:"
   ]
  },
  {
   "cell_type": "code",
   "execution_count": 18,
   "id": "77d34b72-bc3e-4c2f-bc67-042826128643",
   "metadata": {},
   "outputs": [
    {
     "data": {
      "text/plain": [
       "1774"
      ]
     },
     "execution_count": 18,
     "metadata": {},
     "output_type": "execute_result"
    }
   ],
   "source": [
    "len(str(chat_history).split(\" \"))"
   ]
  },
  {
   "cell_type": "code",
   "execution_count": null,
   "id": "81d7f540-3e34-4cd6-bdae-9fb7ab0a5b43",
   "metadata": {},
   "outputs": [],
   "source": []
  }
 ],
 "metadata": {
  "kernelspec": {
   "display_name": "Python 3 (ipykernel)",
   "language": "python",
   "name": "python3"
  },
  "language_info": {
   "codemirror_mode": {
    "name": "ipython",
    "version": 3
   },
   "file_extension": ".py",
   "mimetype": "text/x-python",
   "name": "python",
   "nbconvert_exporter": "python",
   "pygments_lexer": "ipython3",
   "version": "3.9.19"
  }
 },
 "nbformat": 4,
 "nbformat_minor": 5
}
