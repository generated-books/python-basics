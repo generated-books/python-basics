{
  "cells": [
    {
      "cell_type": "markdown",
      "metadata": {},
      "source": [
        "# Tabular Data Wrangling with Pandas\n",
        "\n",
        "In this notebook, we'll explore how to manipulate and analyze tabular data using the powerful pandas library in Python. Pandas is essential for data scientists and analysts working with structured data."
      ]
    },
    {
      "cell_type": "markdown",
      "metadata": {},
      "source": [
        "First, let's import the pandas library and create a sample DataFrame to work with."
      ]
    },
    {
      "cell_type": "code",
      "execution_count": null,
      "metadata": {},
      "outputs": [],
      "source": [
        "import pandas as pd\n",
        "import numpy as np\n",
        "\n",
        "# Create a sample DataFrame\n",
        "df = pd.DataFrame({\n",
        "    'Name': ['Alice', 'Bob', 'Charlie', 'David'],\n",
        "    'Age': [25, 30, 35, 28],\n",
        "    'City': ['New York', 'San Francisco', 'London', 'Paris'],\n",
        "    'Salary': [50000, 75000, 80000, 65000]\n",
        "})\n",
        "\n",
        "print(df)"
      ]
    },
    {
      "cell_type": "markdown",
      "metadata": {},
      "source": [
        "Now, let's explore some basic operations on our DataFrame, such as selecting columns and filtering rows."
      ]
    },
    {
      "cell_type": "code",
      "execution_count": null,
      "metadata": {},
      "outputs": [],
      "source": [
        "# Select specific columns\n",
        "print(df[['Name', 'Age']])\n",
        "\n",
        "# Filter rows based on a condition\n",
        "print(df[df['Age'] > 30])"
      ]
    },
    {
      "cell_type": "markdown",
      "metadata": {},
      "source": [
        "Pandas provides powerful functions for data manipulation. Let's look at sorting and adding new columns."
      ]
    },
    {
      "cell_type": "code",
      "execution_count": null,
      "metadata": {},
      "outputs": [],
      "source": [
        "# Sort the DataFrame by Age\n",
        "print(df.sort_values('Age'))\n",
        "\n",
        "# Add a new column\n",
        "df['Bonus'] = df['Salary'] * 0.1\n",
        "print(df)"
      ]
    },
    {
      "cell_type": "markdown",
      "metadata": {},
      "source": [
        "Group operations are crucial for data analysis. Let's group our data by City and calculate some statistics."
      ]
    },
    {
      "cell_type": "code",
      "execution_count": null,
      "metadata": {},
      "outputs": [],
      "source": [
        "# Group by City and calculate mean Age and Salary\n",
        "city_stats = df.groupby('City').agg({\n",
        "    'Age': 'mean',\n",
        "    'Salary': 'mean'\n",
        "})\n",
        "print(city_stats)"
      ]
    },
    {
      "cell_type": "markdown",
      "metadata": {},
      "source": [
        "Finally, let's demonstrate how to handle missing data, which is common in real-world datasets."
      ]
    },
    {
      "cell_type": "code",
      "execution_count": null,
      "metadata": {},
      "outputs": [],
      "source": [
        "# Introduce some missing values\n",
        "df.loc[1, 'Salary'] = np.nan\n",
        "df.loc[3, 'Age'] = np.nan\n",
        "print(df)\n",
        "\n",
        "# Fill missing values\n",
        "df['Salary'] = df['Salary'].fillna(df['Salary'].mean())\n",
        "df['Age'] = df['Age'].fillna(df['Age'].median())\n",
        "print(df)"
      ]
    },
    {
      "cell_type": "markdown",
      "metadata": {},
      "source": [
        "This notebook has covered some fundamental operations in pandas for tabular data wrangling. Practice these techniques to become proficient in data manipulation with pandas!"
      ]
    }
  ],
  "metadata": {
    "kernelspec": {
      "display_name": "Python 3",
      "language": "python",
      "name": "python3"
    },
    "language_info": {
      "codemirror_mode": {
        "name": "ipython",
        "version": 3
      },
      "file_extension": ".py",
      "mimetype": "text/x-python",
      "name": "python",
      "nbconvert_exporter": "python",
      "pygments_lexer": "ipython3",
      "version": "3.8.0"
    }
  },
  "nbformat": 4,
  "nbformat_minor": 4
}