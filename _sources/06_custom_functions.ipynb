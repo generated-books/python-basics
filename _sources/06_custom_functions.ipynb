{
  "cells": [
    {
      "cell_type": "markdown",
      "metadata": {},
      "source": [
        "# Custom Functions in Python\n",
        "\n",
        "This notebook introduces the concept of custom functions in Python. We'll learn how to define, call, and use functions with parameters and return values."
      ]
    },
    {
      "cell_type": "markdown",
      "metadata": {},
      "source": [
        "Let's start by defining a simple function that greets a person. This function will take a name as an argument and print a greeting message."
      ]
    },
    {
      "cell_type": "code",
      "execution_count": null,
      "metadata": {},
      "outputs": [],
      "source": [
        "def greet(name):\n",
        "    print(f\"Hello, {name}!\")\n",
        "\n",
        "greet(\"Alice\")"
      ]
    },
    {
      "cell_type": "markdown",
      "metadata": {},
      "source": [
        "Now, let's create a function that returns a value. This function will calculate the square of a given number."
      ]
    },
    {
      "cell_type": "code",
      "execution_count": null,
      "metadata": {},
      "outputs": [],
      "source": [
        "def square(number):\n",
        "    return number ** 2\n",
        "\n",
        "result = square(5)\n",
        "print(f\"The square of 5 is: {result}\")"
      ]
    },
    {
      "cell_type": "markdown",
      "metadata": {},
      "source": [
        "Functions can have multiple parameters. Let's create a function that calculates the average of two numbers."
      ]
    },
    {
      "cell_type": "code",
      "execution_count": null,
      "metadata": {},
      "outputs": [],
      "source": [
        "def average(a, b):\n",
        "    return (a + b) / 2\n",
        "\n",
        "avg = average(10, 20)\n",
        "print(f\"The average of 10 and 20 is: {avg}\")"
      ]
    },
    {
      "cell_type": "markdown",
      "metadata": {},
      "source": [
        "Functions can have default parameter values. This allows us to call the function without specifying all arguments."
      ]
    },
    {
      "cell_type": "code",
      "execution_count": null,
      "metadata": {},
      "outputs": [],
      "source": [
        "def power(base, exponent=2):\n",
        "    return base ** exponent\n",
        "\n",
        "print(f\"3 squared: {power(3)}\")\n",
        "print(f\"3 cubed: {power(3, 3)}\")"
      ]
    },
    {
      "cell_type": "markdown",
      "metadata": {},
      "source": [
        "Functions can also accept a variable number of arguments using *args and **kwargs. Let's create a function that sums any number of given arguments."
      ]
    },
    {
      "cell_type": "code",
      "execution_count": null,
      "metadata": {},
      "outputs": [],
      "source": [
        "def sum_all(*args):\n",
        "    return sum(args)\n",
        "\n",
        "print(f\"Sum of 1, 2, 3: {sum_all(1, 2, 3)}\")\n",
        "print(f\"Sum of 1, 2, 3, 4, 5: {sum_all(1, 2, 3, 4, 5)}\")"
      ]
    },
    {
      "cell_type": "markdown",
      "metadata": {},
      "source": [
        "Finally, let's create a function that demonstrates the use of local and global variables."
      ]
    },
    {
      "cell_type": "code",
      "execution_count": null,
      "metadata": {},
      "outputs": [],
      "source": [
        "global_var = 10\n",
        "\n",
        "def modify_global():\n",
        "    global global_var\n",
        "    local_var = 20\n",
        "    global_var += local_var\n",
        "    print(f\"Inside function - global_var: {global_var}, local_var: {local_var}\")\n",
        "\n",
        "modify_global()\n",
        "print(f\"Outside function - global_var: {global_var}\")\n",
        "# This would raise an error: print(local_var)"
      ]
    }
  ],
  "metadata": {
    "kernelspec": {
      "display_name": "Python 3",
      "language": "python",
      "name": "python3"
    },
    "language_info": {
      "codemirror_mode": {
        "name": "ipython",
        "version": 3
      },
      "file_extension": ".py",
      "mimetype": "text/x-python",
      "name": "python",
      "nbconvert_exporter": "python",
      "pygments_lexer": "ipython3",
      "version": "3.8.8"
    }
  },
  "nbformat": 4,
  "nbformat_minor": 4
}