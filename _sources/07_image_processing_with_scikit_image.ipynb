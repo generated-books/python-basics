{
  "cells": [
    {
      "cell_type": "markdown",
      "metadata": {},
      "source": [
        "# Image Processing with scikit-image\n",
        "\n",
        "In this notebook, we'll explore basic image processing techniques using the scikit-image library in Python. Scikit-image is a collection of algorithms for image processing that works well with NumPy arrays."
      ]
    },
    {
      "cell_type": "markdown",
      "metadata": {},
      "source": [
        "## Setup\n",
        "\n",
        "First, let's import the necessary libraries:"
      ]
    },
    {
      "cell_type": "code",
      "execution_count": null,
      "metadata": {},
      "outputs": [],
      "source": [
        "import numpy as np\n",
        "import matplotlib.pyplot as plt\n",
        "from skimage import io, color, filters\n",
        "\n",
        "# Set up matplotlib for inline display in Jupyter\n",
        "%matplotlib inline"
      ]
    },
    {
      "cell_type": "markdown",
      "metadata": {},
      "source": [
        "## Loading an Image\n",
        "\n",
        "Let's start by loading a sample image:"
      ]
    },
    {
      "cell_type": "code",
      "execution_count": null,
      "metadata": {},
      "outputs": [],
      "source": [
        "# Load a sample image\n",
        "image = io.imread('https://scikit-image.org/docs/dev/_static/img/logo.png')\n",
        "\n",
        "# Display the image\n",
        "plt.imshow(image)\n",
        "plt.axis('off')  # Don't show axes\n",
        "plt.show()"
      ]
    },
    {
      "cell_type": "markdown",
      "metadata": {},
      "source": [
        "## Converting to Grayscale\n",
        "\n",
        "Many image processing operations are performed on grayscale images. Let's convert our image to grayscale:"
      ]
    },
    {
      "cell_type": "code",
      "execution_count": null,
      "metadata": {},
      "outputs": [],
      "source": [
        "# Convert to grayscale\n",
        "gray_image = color.rgb2gray(image)\n",
        "\n",
        "# Display the grayscale image\n",
        "plt.imshow(gray_image, cmap='gray')\n",
        "plt.axis('off')\n",
        "plt.show()"
      ]
    },
    {
      "cell_type": "markdown",
      "metadata": {},
      "source": [
        "## Applying Filters\n",
        "\n",
        "Scikit-image provides various filters. Let's apply a Gaussian filter to blur the image:"
      ]
    },
    {
      "cell_type": "code",
      "execution_count": null,
      "metadata": {},
      "outputs": [],
      "source": [
        "# Apply Gaussian filter\n",
        "blurred = filters.gaussian(gray_image, sigma=1)\n",
        "\n",
        "# Display the blurred image\n",
        "plt.imshow(blurred, cmap='gray')\n",
        "plt.axis('off')\n",
        "plt.show()"
      ]
    },
    {
      "cell_type": "markdown",
      "metadata": {},
      "source": [
        "## Edge Detection\n",
        "\n",
        "Edge detection is a fundamental image processing operation. Let's use the Sobel filter for edge detection:"
      ]
    },
    {
      "cell_type": "code",
      "execution_count": null,
      "metadata": {},
      "outputs": [],
      "source": [
        "# Apply Sobel filter for edge detection\n",
        "edges = filters.sobel(gray_image)\n",
        "\n",
        "# Display the edge-detected image\n",
        "plt.imshow(edges, cmap='gray')\n",
        "plt.axis('off')\n",
        "plt.show()"
      ]
    },
    {
      "cell_type": "markdown",
      "metadata": {},
      "source": [
        "## Conclusion\n",
        "\n",
        "This notebook introduced basic image processing techniques using scikit-image:\n",
        "- Loading and displaying images\n",
        "- Converting to grayscale\n",
        "- Applying Gaussian blur\n",
        "- Performing edge detection\n",
        "\n",
        "These are just a few examples of what's possible with scikit-image. The library offers many more advanced features for image processing and analysis."
      ]
    }
  ],
  "metadata": {
    "kernelspec": {
      "display_name": "Python 3",
      "language": "python",
      "name": "python3"
    },
    "language_info": {
      "codemirror_mode": {
        "name": "ipython",
        "version": 3
      },
      "file_extension": ".py",
      "mimetype": "text/x-python",
      "name": "python",
      "nbconvert_exporter": "python",
      "pygments_lexer": "ipython3",
      "version": "3.8.8"
    }
  },
  "nbformat": 4,
  "nbformat_minor": 4
}