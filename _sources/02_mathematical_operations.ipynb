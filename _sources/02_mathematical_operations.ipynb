{
  "cells": [
    {
      "cell_type": "markdown",
      "metadata": {},
      "source": [
        "# Mathematical Operations in Python\n",
        "\n",
        "In this notebook, we'll explore basic mathematical operations in Python. Python provides a variety of operators for performing arithmetic calculations."
      ]
    },
    {
      "cell_type": "markdown",
      "metadata": {},
      "source": [
        "## Basic Arithmetic Operations"
      ]
    },
    {
      "cell_type": "code",
      "execution_count": null,
      "metadata": {},
      "outputs": [],
      "source": [
        "# Addition\n",
        "a = 5 + 3\n",
        "print(f\"Addition: 5 + 3 = {a}\")"
      ]
    },
    {
      "cell_type": "code",
      "execution_count": null,
      "metadata": {},
      "outputs": [],
      "source": [
        "# Subtraction\n",
        "b = 10 - 4\n",
        "print(f\"Subtraction: 10 - 4 = {b}\")"
      ]
    },
    {
      "cell_type": "code",
      "execution_count": null,
      "metadata": {},
      "outputs": [],
      "source": [
        "# Multiplication\n",
        "c = 6 * 7\n",
        "print(f\"Multiplication: 6 * 7 = {c}\")"
      ]
    },
    {
      "cell_type": "code",
      "execution_count": null,
      "metadata": {},
      "outputs": [],
      "source": [
        "# Division\n",
        "d = 20 / 5\n",
        "print(f\"Division: 20 / 5 = {d}\")"
      ]
    },
    {
      "cell_type": "markdown",
      "metadata": {},
      "source": [
        "## Advanced Arithmetic Operations"
      ]
    },
    {
      "cell_type": "code",
      "execution_count": null,
      "metadata": {},
      "outputs": [],
      "source": [
        "# Integer Division (floor division)\n",
        "e = 17 // 3\n",
        "print(f\"Integer Division: 17 // 3 = {e}\")"
      ]
    },
    {
      "cell_type": "code",
      "execution_count": null,
      "metadata": {},
      "outputs": [],
      "source": [
        "# Modulo (remainder)\n",
        "f = 17 % 3\n",
        "print(f\"Modulo: 17 % 3 = {f}\")"
      ]
    },
    {
      "cell_type": "code",
      "execution_count": null,
      "metadata": {},
      "outputs": [],
      "source": [
        "# Exponentiation\n",
        "g = 2 ** 4\n",
        "print(f\"Exponentiation: 2 ** 4 = {g}\")"
      ]
    },
    {
      "cell_type": "markdown",
      "metadata": {},
      "source": [
        "## Order of Operations\n",
        "\n",
        "Python follows the standard order of operations (PEMDAS): Parentheses, Exponents, Multiplication/Division, Addition/Subtraction."
      ]
    },
    {
      "cell_type": "code",
      "execution_count": null,
      "metadata": {},
      "outputs": [],
      "source": [
        "# Example of order of operations\n",
        "result = 2 + 3 * 4 ** 2 - 6 / 2\n",
        "print(f\"2 + 3 * 4 ** 2 - 6 / 2 = {result}\")"
      ]
    },
    {
      "cell_type": "markdown",
      "metadata": {},
      "source": [
        "## Using Math Functions\n",
        "\n",
        "Python's `math` module provides additional mathematical functions."
      ]
    },
    {
      "cell_type": "code",
      "execution_count": null,
      "metadata": {},
      "outputs": [],
      "source": [
        "import math\n",
        "\n",
        "# Square root\n",
        "sqrt_result = math.sqrt(16)\n",
        "print(f\"Square root of 16 = {sqrt_result}\")"
      ]
    },
    {
      "cell_type": "code",
      "execution_count": null,
      "metadata": {},
      "outputs": [],
      "source": [
        "# Trigonometric functions\n",
        "sin_result = math.sin(math.pi / 2)\n",
        "print(f\"Sine of π/2 = {sin_result}\")"
      ]
    },
    {
      "cell_type": "markdown",
      "metadata": {},
      "source": [
        "This notebook covered the basics of mathematical operations in Python. Practice these concepts to become comfortable with Python's arithmetic capabilities!"
      ]
    }
  ],
  "metadata": {
    "kernelspec": {
      "display_name": "Python 3",
      "language": "python",
      "name": "python3"
    },
    "language_info": {
      "codemirror_mode": {
        "name": "ipython",
        "version": 3
      },
      "file_extension": ".py",
      "mimetype": "text/x-python",
      "name": "python",
      "nbconvert_exporter": "python",
      "pygments_lexer": "ipython3",
      "version": "3.8.8"
    }
  },
  "nbformat": 4,
  "nbformat_minor": 4
}