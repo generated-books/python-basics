{
  "cells": [
    {
      "cell_type": "markdown",
      "metadata": {},
      "source": [
        "# Conditional Statements in Python\n",
        "\n",
        "Conditional statements are a fundamental part of programming that allow us to make decisions in our code. In this notebook, we'll explore how to use conditional statements in Python."
      ]
    },
    {
      "cell_type": "markdown",
      "metadata": {},
      "source": [
        "## The `if` Statement\n",
        "\n",
        "The `if` statement is the most basic form of conditional statement. It allows us to execute a block of code only if a certain condition is true."
      ]
    },
    {
      "cell_type": "code",
      "execution_count": null,
      "metadata": {},
      "outputs": [],
      "source": [
        "x = 10\n",
        "\n",
        "if x > 5:\n",
        "    print(\"x is greater than 5\")"
      ]
    },
    {
      "cell_type": "markdown",
      "metadata": {},
      "source": [
        "## The `else` Clause\n",
        "\n",
        "We can use the `else` clause to specify a block of code to be executed if the condition is false."
      ]
    },
    {
      "cell_type": "code",
      "execution_count": null,
      "metadata": {},
      "outputs": [],
      "source": [
        "y = 3\n",
        "\n",
        "if y > 5:\n",
        "    print(\"y is greater than 5\")\n",
        "else:\n",
        "    print(\"y is not greater than 5\")"
      ]
    },
    {
      "cell_type": "markdown",
      "metadata": {},
      "source": [
        "## The `elif` Clause\n",
        "\n",
        "For multiple conditions, we can use the `elif` (else if) clause."
      ]
    },
    {
      "cell_type": "code",
      "execution_count": null,
      "metadata": {},
      "outputs": [],
      "source": [
        "z = 5\n",
        "\n",
        "if z > 5:\n",
        "    print(\"z is greater than 5\")\n",
        "elif z < 5:\n",
        "    print(\"z is less than 5\")\n",
        "else:\n",
        "    print(\"z is equal to 5\")"
      ]
    },
    {
      "cell_type": "markdown",
      "metadata": {},
      "source": [
        "## Nested Conditionals\n",
        "\n",
        "We can also nest conditional statements inside each other."
      ]
    },
    {
      "cell_type": "code",
      "execution_count": null,
      "metadata": {},
      "outputs": [],
      "source": [
        "num = 15\n",
        "\n",
        "if num > 0:\n",
        "    print(\"Positive number\")\n",
        "    if num % 2 == 0:\n",
        "        print(\"Even number\")\n",
        "    else:\n",
        "        print(\"Odd number\")\n",
        "else:\n",
        "    print(\"Non-positive number\")"
      ]
    },
    {
      "cell_type": "markdown",
      "metadata": {},
      "source": [
        "## Conditional Expressions (Ternary Operator)\n",
        "\n",
        "Python also supports a compact way to write simple if-else statements in a single line."
      ]
    },
    {
      "cell_type": "code",
      "execution_count": null,
      "metadata": {},
      "outputs": [],
      "source": [
        "a = 7\n",
        "b = 10\n",
        "\n",
        "max_value = a if a > b else b\n",
        "print(f\"The maximum value is: {max_value}\")"
      ]
    },
    {
      "cell_type": "markdown",
      "metadata": {},
      "source": [
        "## Conclusion\n",
        "\n",
        "Conditional statements are crucial for creating dynamic and responsive programs. They allow our code to make decisions based on different conditions, making our programs more flexible and powerful."
      ]
    }
  ],
  "metadata": {
    "kernelspec": {
      "display_name": "Python 3",
      "language": "python",
      "name": "python3"
    },
    "language_info": {
      "codemirror_mode": {
        "name": "ipython",
        "version": 3
      },
      "file_extension": ".py",
      "mimetype": "text/x-python",
      "name": "python",
      "nbconvert_exporter": "python",
      "pygments_lexer": "ipython3",
      "version": "3.8.5"
    }
  },
  "nbformat": 4,
  "nbformat_minor": 4
}