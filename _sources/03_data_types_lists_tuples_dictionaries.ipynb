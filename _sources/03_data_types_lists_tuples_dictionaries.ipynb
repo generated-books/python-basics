{
 "cells": [
  {
   "cell_type": "markdown",
   "metadata": {},
   "source": [
    "# Data Types: Lists, Tuples, Dictionaries\n",
    "\n",
    "In this notebook, we'll explore three important data types in Python: lists, tuples, and dictionaries. These data structures are fundamental to organizing and manipulating data in Python."
   ]
  },
  {
   "cell_type": "markdown",
   "metadata": {},
   "source": [
    "## Lists\n",
    "\n",
    "Lists are ordered, mutable collections of items. They can contain elements of different types and are defined using square brackets []."
   ]
  },
  {
   "cell_type": "code",
   "execution_count": null,
   "metadata": {},
   "outputs": [],
   "source": [
    "# Creating a list\n",
    "fruits = ['apple', 'banana', 'cherry']\n",
    "print(fruits)"
   ]
  },
  {
   "cell_type": "markdown",
   "metadata": {},
   "source": [
    "Lists are indexed starting from 0. We can access individual elements using their index."
   ]
  },
  {
   "cell_type": "code",
   "execution_count": null,
   "metadata": {},
   "outputs": [],
   "source": [
    "# Accessing list elements\n",
    "print(fruits[0])  # First element\n",
    "print(fruits[-1])  # Last element"
   ]
  },
  {
   "cell_type": "markdown",
   "metadata": {},
   "source": [
    "Lists are mutable, which means we can modify their contents after creation."
   ]
  },
  {
   "cell_type": "code",
   "execution_count": null,
   "metadata": {},
   "outputs": [],
   "source": [
    "# Modifying a list\n",
    "fruits[1] = 'blueberry'\n",
    "fruits.append('date')\n",
    "print(fruits)"
   ]
  },
  {
   "cell_type": "markdown",
   "metadata": {},
   "source": [
    "## Tuples\n",
    "\n",
    "Tuples are ordered, immutable collections. They are similar to lists but cannot be changed after creation. Tuples are defined using parentheses ()."
   ]
  },
  {
   "cell_type": "code",
   "execution_count": null,
   "metadata": {},
   "outputs": [],
   "source": [
    "# Creating a tuple\n",
    "coordinates = (10, 20)\n",
    "print(coordinates)"
   ]
  },
  {
   "cell_type": "markdown",
   "metadata": {},
   "source": [
    "We can access tuple elements similarly to lists, but we cannot modify them."
   ]
  },
  {
   "cell_type": "code",
   "execution_count": null,
   "metadata": {},
   "outputs": [],
   "source": [
    "# Accessing tuple elements\n",
    "print(coordinates[0])\n",
    "print(coordinates[1])"
   ]
  },
  {
   "cell_type": "markdown",
   "metadata": {},
   "source": [
    "## Dictionaries\n",
    "\n",
    "Dictionaries are unordered collections of key-value pairs. They are defined using curly braces {} and use keys to access values."
   ]
  },
  {
   "cell_type": "code",
   "execution_count": null,
   "metadata": {},
   "outputs": [],
   "source": [
    "# Creating a dictionary\n",
    "person = {'name': 'John', 'age': 30, 'city': 'New York'}\n",
    "print(person)"
   ]
  },
  {
   "cell_type": "markdown",
   "metadata": {},
   "source": [
    "We can access dictionary values using their keys. We can also modify existing values or add new key-value pairs."
   ]
  },
  {
   "cell_type": "code",
   "execution_count": null,
   "metadata": {},
   "outputs": [],
   "source": [
    "# Accessing and modifying dictionary elements\n",
    "print(person['name'])\n",
    "person['age'] = 31\n",
    "person['occupation'] = 'Engineer'\n",
    "print(person)"
   ]
  },
  {
   "cell_type": "markdown",
   "metadata": {},
   "source": [
    "## Summary\n",
    "\n",
    "We've explored three important data types in Python:\n",
    "- Lists: ordered, mutable collections\n",
    "- Tuples: ordered, immutable collections\n",
    "- Dictionaries: unordered collections of key-value pairs\n",
    "\n",
    "Each has its own use cases and characteristics, making them valuable tools for different scenarios in Python programming."
   ]
  }
 ],
 "metadata": {
  "kernelspec": {
   "display_name": "Python 3",
   "language": "python",
   "name": "python3"
  },
  "language_info": {
   "codemirror_mode": {
    "name": "ipython",
    "version": 3
   },
   "file_extension": ".py",
   "mimetype": "text/x-python",
   "name": "python",
   "nbconvert_exporter": "python",
   "pygments_lexer": "ipython3",
   "version": "3.8.8"
  }
 },
 "nbformat": 4,
 "nbformat_minor": 4
}