{
  "cells": [
    {
      "cell_type": "markdown",
      "metadata": {},
      "source": [
        "# Data Types: Lists, Tuples, Dictionaries\n",
        "\n",
        "In this notebook, we'll explore three important data types in Python: lists, tuples, and dictionaries. These data structures are fundamental to Python programming and are used extensively in data analysis and manipulation."
      ]
    },
    {
      "cell_type": "markdown",
      "metadata": {},
      "source": [
        "## Lists\n",
        "\n",
        "Lists are ordered, mutable sequences of elements. They can contain items of different types and are defined using square brackets []."
      ]
    },
    {
      "cell_type": "code",
      "execution_count": null,
      "metadata": {},
      "outputs": [],
      "source": [
        "# Creating a list\n",
        "fruits = ['apple', 'banana', 'cherry']\n",
        "print(fruits)"
      ]
    },
    {
      "cell_type": "code",
      "execution_count": null,
      "metadata": {},
      "outputs": [],
      "source": [
        "# Accessing elements\n",
        "print(fruits[0])  # First element\n",
        "print(fruits[-1])  # Last element"
      ]
    },
    {
      "cell_type": "code",
      "execution_count": null,
      "metadata": {},
      "outputs": [],
      "source": [
        "# Modifying a list\n",
        "fruits[1] = 'blueberry'\n",
        "print(fruits)"
      ]
    },
    {
      "cell_type": "markdown",
      "metadata": {},
      "source": [
        "## Tuples\n",
        "\n",
        "Tuples are ordered, immutable sequences. They are similar to lists but cannot be modified after creation. Tuples are defined using parentheses ()."
      ]
    },
    {
      "cell_type": "code",
      "execution_count": null,
      "metadata": {},
      "outputs": [],
      "source": [
        "# Creating a tuple\n",
        "coordinates = (10, 20)\n",
        "print(coordinates)"
      ]
    },
    {
      "cell_type": "code",
      "execution_count": null,
      "metadata": {},
      "outputs": [],
      "source": [
        "# Accessing elements\n",
        "print(coordinates[0])\n",
        "print(coordinates[1])"
      ]
    },
    {
      "cell_type": "code",
      "execution_count": null,
      "metadata": {},
      "outputs": [],
      "source": [
        "# Attempting to modify a tuple (will raise an error)\n",
        "try:\n",
        "    coordinates[0] = 30\n",
        "except TypeError as e:\n",
        "    print(f\"Error: {e}\")"
      ]
    },
    {
      "cell_type": "markdown",
      "metadata": {},
      "source": [
        "## Dictionaries\n",
        "\n",
        "Dictionaries are unordered collections of key-value pairs. They are defined using curly braces {} and use colons to separate keys and values."
      ]
    },
    {
      "cell_type": "code",
      "execution_count": null,
      "metadata": {},
      "outputs": [],
      "source": [
        "# Creating a dictionary\n",
        "person = {'name': 'John', 'age': 30, 'city': 'New York'}\n",
        "print(person)"
      ]
    },
    {
      "cell_type": "code",
      "execution_count": null,
      "metadata": {},
      "outputs": [],
      "source": [
        "# Accessing values\n",
        "print(person['name'])\n",
        "print(person.get('age'))"
      ]
    },
    {
      "cell_type": "code",
      "execution_count": null,
      "metadata": {},
      "outputs": [],
      "source": [
        "# Modifying a dictionary\n",
        "person['age'] = 31\n",
        "person['occupation'] = 'Engineer'\n",
        "print(person)"
      ]
    },
    {
      "cell_type": "markdown",
      "metadata": {},
      "source": [
        "## Summary\n",
        "\n",
        "- Lists are ordered, mutable sequences defined with [].\n",
        "- Tuples are ordered, immutable sequences defined with ().\n",
        "- Dictionaries are unordered collections of key-value pairs defined with {}.\n",
        "\n",
        "Each of these data types has its own use cases and is essential for effective Python programming and data analysis."
      ]
    }
  ],
  "metadata": {
    "kernelspec": {
      "display_name": "Python 3",
      "language": "python",
      "name": "python3"
    },
    "language_info": {
      "codemirror_mode": {
        "name": "ipython",
        "version": 3
      },
      "file_extension": ".py",
      "mimetype": "text/x-python",
      "name": "python",
      "nbconvert_exporter": "python",
      "pygments_lexer": "ipython3",
      "version": "3.8.8"
    }
  },
  "nbformat": 4,
  "nbformat_minor": 4
}