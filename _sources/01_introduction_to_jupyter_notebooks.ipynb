{
  "cells": [
    {
      "cell_type": "markdown",
      "metadata": {},
      "source": [
        "# Introduction to Jupyter Notebooks\n",
        "\n",
        "Jupyter notebooks are powerful tools for interactive computing and data analysis. They combine code execution, rich text, mathematics, plots and rich media in a single document."
      ]
    },
    {
      "cell_type": "markdown",
      "metadata": {},
      "source": [
        "## What is a Jupyter Notebook?\n",
        "\n",
        "A Jupyter notebook is an open-source web application that allows you to create and share documents containing live code, equations, visualizations, and narrative text."
      ]
    },
    {
      "cell_type": "markdown",
      "metadata": {},
      "source": [
        "## Structure of a Jupyter Notebook\n",
        "\n",
        "A Jupyter notebook consists of a series of cells. There are two main types of cells:\n",
        "\n",
        "1. Code cells: For writing and running code\n",
        "2. Markdown cells: For adding formatted text, images, and equations"
      ]
    },
    {
      "cell_type": "markdown",
      "metadata": {},
      "source": [
        "## Your First Code Cell\n",
        "\n",
        "Let's start with a simple Python code cell. Run the cell below to see the output:"
      ]
    },
    {
      "cell_type": "code",
      "execution_count": null,
      "metadata": {},
      "outputs": [],
      "source": [
        "print(\"Hello, Jupyter!\")"
      ]
    },
    {
      "cell_type": "markdown",
      "metadata": {},
      "source": [
        "## Basic Math Operations\n",
        "\n",
        "Jupyter notebooks can perform calculations. Try running the cell below:"
      ]
    },
    {
      "cell_type": "code",
      "execution_count": null,
      "metadata": {},
      "outputs": [],
      "source": [
        "2 + 2"
      ]
    },
    {
      "cell_type": "markdown",
      "metadata": {},
      "source": [
        "## Variables and Assignments\n",
        "\n",
        "You can assign values to variables and use them in subsequent cells:"
      ]
    },
    {
      "cell_type": "code",
      "execution_count": null,
      "metadata": {},
      "outputs": [],
      "source": [
        "x = 5\n",
        "y = 3\n",
        "print(f\"x = {x}, y = {y}\")"
      ]
    },
    {
      "cell_type": "code",
      "execution_count": null,
      "metadata": {},
      "outputs": [],
      "source": [
        "result = x * y\n",
        "print(f\"x * y = {result}\")"
      ]
    },
    {
      "cell_type": "markdown",
      "metadata": {},
      "source": [
        "## Markdown Cells\n",
        "\n",
        "Markdown cells allow you to format text, add links, and include images. Here's an example of some formatted text:\n",
        "\n",
        "**Bold text**\n",
        "*Italic text*\n",
        "\n",
        "- Bullet point 1\n",
        "- Bullet point 2\n",
        "\n",
        "[Link to Jupyter website](https://jupyter.org/)"
      ]
    },
    {
      "cell_type": "markdown",
      "metadata": {},
      "source": [
        "## Conclusion\n",
        "\n",
        "This notebook has introduced you to the basics of Jupyter notebooks. You've seen how to use code cells, perform simple calculations, work with variables, and format text in markdown cells. As you progress through this course, you'll discover more advanced features and how to use Jupyter notebooks for data analysis and visualization."
      ]
    }
  ],
  "metadata": {
    "kernelspec": {
      "display_name": "Python 3",
      "language": "python",
      "name": "python3"
    },
    "language_info": {
      "codemirror_mode": {
        "name": "ipython",
        "version": 3
      },
      "file_extension": ".py",
      "mimetype": "text/x-python",
      "name": "python",
      "nbconvert_exporter": "python",
      "pygments_lexer": "ipython3",
      "version": "3.8.5"
    }
  },
  "nbformat": 4,
  "nbformat_minor": 4
}