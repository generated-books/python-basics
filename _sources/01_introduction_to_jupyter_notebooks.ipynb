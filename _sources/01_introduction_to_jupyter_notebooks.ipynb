{
  "cells": [
    {
      "cell_type": "markdown",
      "metadata": {},
      "source": [
        "# Introduction to Jupyter Notebooks\n",
        "\n",
        "Jupyter notebooks are powerful tools for interactive computing and data analysis. They allow you to combine code, text, and visualizations in a single document."
      ]
    },
    {
      "cell_type": "markdown",
      "metadata": {},
      "source": [
        "## What is a Jupyter Notebook?\n",
        "\n",
        "A Jupyter notebook is an interactive document that contains both code and rich text elements. It's widely used in data science, scientific computing, and education."
      ]
    },
    {
      "cell_type": "markdown",
      "metadata": {},
      "source": [
        "## Basic Structure\n",
        "\n",
        "A Jupyter notebook consists of cells. There are two main types of cells:\n",
        "1. Code cells\n",
        "2. Markdown cells"
      ]
    },
    {
      "cell_type": "markdown",
      "metadata": {},
      "source": [
        "### Code Cells\n",
        "\n",
        "Code cells contain executable code. Let's try a simple Python code:"
      ]
    },
    {
      "cell_type": "code",
      "execution_count": null,
      "metadata": {},
      "outputs": [],
      "source": [
        "print(\"Hello, Jupyter!\")"
      ]
    },
    {
      "cell_type": "markdown",
      "metadata": {},
      "source": [
        "To run a code cell, you can click the 'Run' button or use the keyboard shortcut Shift+Enter."
      ]
    },
    {
      "cell_type": "markdown",
      "metadata": {},
      "source": [
        "### Markdown Cells\n",
        "\n",
        "Markdown cells contain formatted text. You can use Markdown syntax for formatting:"
      ]
    },
    {
      "cell_type": "markdown",
      "metadata": {},
      "source": [
        "**Bold text**\n",
        "\n",
        "*Italic text*\n",
        "\n",
        "- Bullet point 1\n",
        "- Bullet point 2\n",
        "\n",
        "1. Numbered item 1\n",
        "2. Numbered item 2"
      ]
    },
    {
      "cell_type": "markdown",
      "metadata": {},
      "source": [
        "## Basic Operations\n",
        "\n",
        "Let's try some basic Python operations:"
      ]
    },
    {
      "cell_type": "code",
      "execution_count": null,
      "metadata": {},
      "outputs": [],
      "source": [
        "# Simple addition\n",
        "2 + 3"
      ]
    },
    {
      "cell_type": "code",
      "execution_count": null,
      "metadata": {},
      "outputs": [],
      "source": [
        "# Creating a list\n",
        "fruits = ['apple', 'banana', 'orange']\n",
        "print(fruits)"
      ]
    },
    {
      "cell_type": "markdown",
      "metadata": {},
      "source": [
        "## Conclusion\n",
        "\n",
        "This introduction covers the basics of Jupyter notebooks. As you progress, you'll discover more features that make Jupyter notebooks a powerful tool for interactive computing and data analysis."
      ]
    }
  ],
  "metadata": {
    "kernelspec": {
      "display_name": "Python 3",
      "language": "python",
      "name": "python3"
    },
    "language_info": {
      "codemirror_mode": {
        "name": "ipython",
        "version": 3
      },
      "file_extension": ".py",
      "mimetype": "text/x-python",
      "name": "python",
      "nbconvert_exporter": "python",
      "pygments_lexer": "ipython3",
      "version": "3.8.10"
    }
  },
  "nbformat": 4,
  "nbformat_minor": 4
}