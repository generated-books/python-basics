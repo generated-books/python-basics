{
  "cells": [
    {
      "cell_type": "markdown",
      "metadata": {},
      "source": [
        "# For-loops in Python\n",
        "\n",
        "For-loops are a fundamental concept in Python programming. They allow you to iterate over a sequence of elements and perform actions for each item. In this notebook, we'll explore the basics of for-loops and their common use cases."
      ]
    },
    {
      "cell_type": "markdown",
      "metadata": {},
      "source": [
        "## Basic For-loop Syntax\n",
        "\n",
        "The basic syntax of a for-loop in Python is as follows:\n",
        "\n",
        "```python\n",
        "for item in iterable:\n",
        "    # Code to be executed for each item\n",
        "```\n",
        "\n",
        "Let's start with a simple example:"
      ]
    },
    {
      "cell_type": "code",
      "execution_count": null,
      "metadata": {},
      "outputs": [],
      "source": [
        "fruits = ['apple', 'banana', 'cherry']\n",
        "for fruit in fruits:\n",
        "    print(fruit)"
      ]
    },
    {
      "cell_type": "markdown",
      "metadata": {},
      "source": [
        "In this example, we iterate over a list of fruits and print each fruit."
      ]
    },
    {
      "cell_type": "markdown",
      "metadata": {},
      "source": [
        "## Using range() in For-loops\n",
        "\n",
        "The `range()` function is often used with for-loops to iterate a specific number of times:"
      ]
    },
    {
      "cell_type": "code",
      "execution_count": null,
      "metadata": {},
      "outputs": [],
      "source": [
        "for i in range(5):\n",
        "    print(i)"
      ]
    },
    {
      "cell_type": "markdown",
      "metadata": {},
      "source": [
        "This loop will print numbers from 0 to 4."
      ]
    },
    {
      "cell_type": "markdown",
      "metadata": {},
      "source": [
        "## Nested For-loops\n",
        "\n",
        "You can nest for-loops inside each other for more complex iterations:"
      ]
    },
    {
      "cell_type": "code",
      "execution_count": null,
      "metadata": {},
      "outputs": [],
      "source": [
        "for i in range(3):\n",
        "    for j in range(2):\n",
        "        print(f\"({i}, {j})\")"
      ]
    },
    {
      "cell_type": "markdown",
      "metadata": {},
      "source": [
        "This nested loop will print all combinations of (i, j) where i ranges from 0 to 2 and j ranges from 0 to 1."
      ]
    },
    {
      "cell_type": "markdown",
      "metadata": {},
      "source": [
        "## Looping with Enumerate()\n",
        "\n",
        "The `enumerate()` function is useful when you need both the index and the value in a loop:"
      ]
    },
    {
      "cell_type": "code",
      "execution_count": null,
      "metadata": {},
      "outputs": [],
      "source": [
        "fruits = ['apple', 'banana', 'cherry']\n",
        "for index, fruit in enumerate(fruits):\n",
        "    print(f\"Index {index}: {fruit}\")"
      ]
    },
    {
      "cell_type": "markdown",
      "metadata": {},
      "source": [
        "This loop prints both the index and the value of each item in the list."
      ]
    },
    {
      "cell_type": "markdown",
      "metadata": {},
      "source": [
        "## Conclusion\n",
        "\n",
        "For-loops are a powerful tool in Python for iterating over sequences and performing repeated actions. They are essential for many programming tasks and form the basis for more advanced looping concepts."
      ]
    }
  ],
  "metadata": {
    "kernelspec": {
      "display_name": "Python 3",
      "language": "python",
      "name": "python3"
    },
    "language_info": {
      "codemirror_mode": {
        "name": "ipython",
        "version": 3
      },
      "file_extension": ".py",
      "mimetype": "text/x-python",
      "name": "python",
      "nbconvert_exporter": "python",
      "pygments_lexer": "ipython3",
      "version": "3.8.5"
    }
  },
  "nbformat": 4,
  "nbformat_minor": 4
}